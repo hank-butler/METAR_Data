{
 "cells": [
  {
   "cell_type": "markdown",
   "metadata": {},
   "source": [
    "# METAR Data Analysis Project"
   ]
  },
  {
   "cell_type": "markdown",
   "metadata": {},
   "source": [
    "METAR is the acronym for Meteorological Aerodrome Report. It is internationally recognized shorthand for weather data used by the aviation community."
   ]
  },
  {
   "cell_type": "markdown",
   "metadata": {},
   "source": [
    "### The Problem:\n",
    "\n",
    "A Flight school is looking to expand to new locations. You're given METAR data to identify the 10 best and 10 worst locations based on the following criteria:\n",
    "\n",
    "* Visibility of 10 statute miles or greater \n",
    "\n",
    "* Cloud ceiling of 3,000 ft above ground or higher\n",
    "\n",
    "* Winds less than 15 kts"
   ]
  },
  {
   "cell_type": "code",
   "execution_count": 1,
   "metadata": {},
   "outputs": [],
   "source": [
    "import pandas as pd\n",
    "import numpy as np\n",
    "import matplotlib.pyplot as plt\n",
    "import seaborn as sns"
   ]
  },
  {
   "cell_type": "code",
   "execution_count": 2,
   "metadata": {},
   "outputs": [],
   "source": [
    "metar = 'metar_export.txt'"
   ]
  },
  {
   "cell_type": "code",
   "execution_count": 3,
   "metadata": {},
   "outputs": [],
   "source": [
    "df = pd.read_csv(metar, delimiter='\\t')"
   ]
  },
  {
   "cell_type": "code",
   "execution_count": 4,
   "metadata": {},
   "outputs": [
    {
     "data": {
      "text/html": [
       "<div>\n",
       "<style scoped>\n",
       "    .dataframe tbody tr th:only-of-type {\n",
       "        vertical-align: middle;\n",
       "    }\n",
       "\n",
       "    .dataframe tbody tr th {\n",
       "        vertical-align: top;\n",
       "    }\n",
       "\n",
       "    .dataframe thead th {\n",
       "        text-align: right;\n",
       "    }\n",
       "</style>\n",
       "<table border=\"1\" class=\"dataframe\">\n",
       "  <thead>\n",
       "    <tr style=\"text-align: right;\">\n",
       "      <th></th>\n",
       "      <th>2015-03-25 21:15:00</th>\n",
       "      <th>KCXP 252115Z AUTO 08005KT 10SM CLR 17/M01 A3033 RMK AO2</th>\n",
       "    </tr>\n",
       "  </thead>\n",
       "  <tbody>\n",
       "    <tr>\n",
       "      <th>0</th>\n",
       "      <td>2015-03-25 21:13:00</td>\n",
       "      <td>KWRB 252113Z AUTO 06005KT 10SM BKN014 OVC024 2...</td>\n",
       "    </tr>\n",
       "    <tr>\n",
       "      <th>1</th>\n",
       "      <td>2015-03-25 21:12:00</td>\n",
       "      <td>KTUL 252112Z 14006KT 10SM TS BKN035 BKN120 BKN...</td>\n",
       "    </tr>\n",
       "    <tr>\n",
       "      <th>2</th>\n",
       "      <td>2015-03-25 21:11:00</td>\n",
       "      <td>KDRT 252111Z AUTO 13007KT 10SM SCT023 22/17 A2...</td>\n",
       "    </tr>\n",
       "    <tr>\n",
       "      <th>3</th>\n",
       "      <td>2015-03-25 21:10:00</td>\n",
       "      <td>KBRL 252110Z AUTO 33009KT 8SM SCT016 07/03 A30...</td>\n",
       "    </tr>\n",
       "    <tr>\n",
       "      <th>4</th>\n",
       "      <td>2015-03-25 21:10:00</td>\n",
       "      <td>KCMX 252110Z AUTO 26016KT 4SM -SN BR OVC007 01...</td>\n",
       "    </tr>\n",
       "  </tbody>\n",
       "</table>\n",
       "</div>"
      ],
      "text/plain": [
       "   2015-03-25 21:15:00 KCXP 252115Z AUTO 08005KT 10SM CLR 17/M01 A3033 RMK AO2\n",
       "0  2015-03-25 21:13:00  KWRB 252113Z AUTO 06005KT 10SM BKN014 OVC024 2...     \n",
       "1  2015-03-25 21:12:00  KTUL 252112Z 14006KT 10SM TS BKN035 BKN120 BKN...     \n",
       "2  2015-03-25 21:11:00  KDRT 252111Z AUTO 13007KT 10SM SCT023 22/17 A2...     \n",
       "3  2015-03-25 21:10:00  KBRL 252110Z AUTO 33009KT 8SM SCT016 07/03 A30...     \n",
       "4  2015-03-25 21:10:00  KCMX 252110Z AUTO 26016KT 4SM -SN BR OVC007 01...     "
      ]
     },
     "execution_count": 4,
     "metadata": {},
     "output_type": "execute_result"
    }
   ],
   "source": [
    "df.head()"
   ]
  },
  {
   "cell_type": "code",
   "execution_count": 5,
   "metadata": {},
   "outputs": [
    {
     "data": {
      "text/html": [
       "<div>\n",
       "<style scoped>\n",
       "    .dataframe tbody tr th:only-of-type {\n",
       "        vertical-align: middle;\n",
       "    }\n",
       "\n",
       "    .dataframe tbody tr th {\n",
       "        vertical-align: top;\n",
       "    }\n",
       "\n",
       "    .dataframe thead th {\n",
       "        text-align: right;\n",
       "    }\n",
       "</style>\n",
       "<table border=\"1\" class=\"dataframe\">\n",
       "  <thead>\n",
       "    <tr style=\"text-align: right;\">\n",
       "      <th></th>\n",
       "      <th>2015-03-25 21:15:00</th>\n",
       "      <th>KCXP 252115Z AUTO 08005KT 10SM CLR 17/M01 A3033 RMK AO2</th>\n",
       "    </tr>\n",
       "  </thead>\n",
       "  <tbody>\n",
       "    <tr>\n",
       "      <th>0</th>\n",
       "      <td>2015-03-25 21:13:00</td>\n",
       "      <td>KWRB 252113Z AUTO 06005KT 10SM BKN014 OVC024 2...</td>\n",
       "    </tr>\n",
       "    <tr>\n",
       "      <th>1</th>\n",
       "      <td>2015-03-25 21:12:00</td>\n",
       "      <td>KTUL 252112Z 14006KT 10SM TS BKN035 BKN120 BKN...</td>\n",
       "    </tr>\n",
       "    <tr>\n",
       "      <th>2</th>\n",
       "      <td>2015-03-25 21:11:00</td>\n",
       "      <td>KDRT 252111Z AUTO 13007KT 10SM SCT023 22/17 A2...</td>\n",
       "    </tr>\n",
       "    <tr>\n",
       "      <th>3</th>\n",
       "      <td>2015-03-25 21:10:00</td>\n",
       "      <td>KBRL 252110Z AUTO 33009KT 8SM SCT016 07/03 A30...</td>\n",
       "    </tr>\n",
       "    <tr>\n",
       "      <th>4</th>\n",
       "      <td>2015-03-25 21:10:00</td>\n",
       "      <td>KCMX 252110Z AUTO 26016KT 4SM -SN BR OVC007 01...</td>\n",
       "    </tr>\n",
       "    <tr>\n",
       "      <th>...</th>\n",
       "      <td>...</td>\n",
       "      <td>...</td>\n",
       "    </tr>\n",
       "    <tr>\n",
       "      <th>7731235</th>\n",
       "      <td>2016-04-28 18:16:00</td>\n",
       "      <td>KWRI 281816Z AUTO 10007KT 10SM -RA FEW048 OVC0...</td>\n",
       "    </tr>\n",
       "    <tr>\n",
       "      <th>7731236</th>\n",
       "      <td>2016-04-28 18:15:00</td>\n",
       "      <td>KUES 281815Z 07012G16KT 10SM OVC008 03/02 A2997</td>\n",
       "    </tr>\n",
       "    <tr>\n",
       "      <th>7731237</th>\n",
       "      <td>2016-04-28 18:14:00</td>\n",
       "      <td>KVPS 281814Z 20011KT 10SM BKN012 OVC022 25/22 ...</td>\n",
       "    </tr>\n",
       "    <tr>\n",
       "      <th>7731238</th>\n",
       "      <td>2016-04-28 18:13:00</td>\n",
       "      <td>KRCA 281813Z AUTO 34007KT 10SM OVC010 03/03 A3...</td>\n",
       "    </tr>\n",
       "    <tr>\n",
       "      <th>7731239</th>\n",
       "      <td>2016-04-28 18:13:00</td>\n",
       "      <td>KMSN 281813Z 07010KT 10SM OVC016 06/02 A2994 R...</td>\n",
       "    </tr>\n",
       "  </tbody>\n",
       "</table>\n",
       "<p>7731240 rows × 2 columns</p>\n",
       "</div>"
      ],
      "text/plain": [
       "         2015-03-25 21:15:00  \\\n",
       "0        2015-03-25 21:13:00   \n",
       "1        2015-03-25 21:12:00   \n",
       "2        2015-03-25 21:11:00   \n",
       "3        2015-03-25 21:10:00   \n",
       "4        2015-03-25 21:10:00   \n",
       "...                      ...   \n",
       "7731235  2016-04-28 18:16:00   \n",
       "7731236  2016-04-28 18:15:00   \n",
       "7731237  2016-04-28 18:14:00   \n",
       "7731238  2016-04-28 18:13:00   \n",
       "7731239  2016-04-28 18:13:00   \n",
       "\n",
       "        KCXP 252115Z AUTO 08005KT 10SM CLR 17/M01 A3033 RMK AO2  \n",
       "0        KWRB 252113Z AUTO 06005KT 10SM BKN014 OVC024 2...       \n",
       "1        KTUL 252112Z 14006KT 10SM TS BKN035 BKN120 BKN...       \n",
       "2        KDRT 252111Z AUTO 13007KT 10SM SCT023 22/17 A2...       \n",
       "3        KBRL 252110Z AUTO 33009KT 8SM SCT016 07/03 A30...       \n",
       "4        KCMX 252110Z AUTO 26016KT 4SM -SN BR OVC007 01...       \n",
       "...                                                    ...       \n",
       "7731235  KWRI 281816Z AUTO 10007KT 10SM -RA FEW048 OVC0...       \n",
       "7731236    KUES 281815Z 07012G16KT 10SM OVC008 03/02 A2997       \n",
       "7731237  KVPS 281814Z 20011KT 10SM BKN012 OVC022 25/22 ...       \n",
       "7731238  KRCA 281813Z AUTO 34007KT 10SM OVC010 03/03 A3...       \n",
       "7731239  KMSN 281813Z 07010KT 10SM OVC016 06/02 A2994 R...       \n",
       "\n",
       "[7731240 rows x 2 columns]"
      ]
     },
     "execution_count": 5,
     "metadata": {},
     "output_type": "execute_result"
    }
   ],
   "source": [
    "df"
   ]
  },
  {
   "cell_type": "code",
   "execution_count": 6,
   "metadata": {},
   "outputs": [
    {
     "data": {
      "text/plain": [
       "(7731240, 2)"
      ]
     },
     "execution_count": 6,
     "metadata": {},
     "output_type": "execute_result"
    }
   ],
   "source": [
    "df.shape"
   ]
  },
  {
   "cell_type": "code",
   "execution_count": 7,
   "metadata": {},
   "outputs": [
    {
     "data": {
      "text/html": [
       "<div>\n",
       "<style scoped>\n",
       "    .dataframe tbody tr th:only-of-type {\n",
       "        vertical-align: middle;\n",
       "    }\n",
       "\n",
       "    .dataframe tbody tr th {\n",
       "        vertical-align: top;\n",
       "    }\n",
       "\n",
       "    .dataframe thead th {\n",
       "        text-align: right;\n",
       "    }\n",
       "</style>\n",
       "<table border=\"1\" class=\"dataframe\">\n",
       "  <thead>\n",
       "    <tr style=\"text-align: right;\">\n",
       "      <th></th>\n",
       "      <th>2015-03-25 21:15:00</th>\n",
       "      <th>KCXP 252115Z AUTO 08005KT 10SM CLR 17/M01 A3033 RMK AO2</th>\n",
       "    </tr>\n",
       "  </thead>\n",
       "  <tbody>\n",
       "    <tr>\n",
       "      <th>count</th>\n",
       "      <td>7731240</td>\n",
       "      <td>7731240</td>\n",
       "    </tr>\n",
       "    <tr>\n",
       "      <th>unique</th>\n",
       "      <td>465271</td>\n",
       "      <td>7731199</td>\n",
       "    </tr>\n",
       "    <tr>\n",
       "      <th>top</th>\n",
       "      <td>2015-10-12 00:53:00</td>\n",
       "      <td>KEYW 261153Z 03003KT 10SM SCT024 SCT031 29/26 ...</td>\n",
       "    </tr>\n",
       "    <tr>\n",
       "      <th>freq</th>\n",
       "      <td>324</td>\n",
       "      <td>2</td>\n",
       "    </tr>\n",
       "  </tbody>\n",
       "</table>\n",
       "</div>"
      ],
      "text/plain": [
       "        2015-03-25 21:15:00  \\\n",
       "count               7731240   \n",
       "unique               465271   \n",
       "top     2015-10-12 00:53:00   \n",
       "freq                    324   \n",
       "\n",
       "       KCXP 252115Z AUTO 08005KT 10SM CLR 17/M01 A3033 RMK AO2  \n",
       "count                                             7731240       \n",
       "unique                                            7731199       \n",
       "top     KEYW 261153Z 03003KT 10SM SCT024 SCT031 29/26 ...       \n",
       "freq                                                    2       "
      ]
     },
     "execution_count": 7,
     "metadata": {},
     "output_type": "execute_result"
    }
   ],
   "source": [
    "df.describe()"
   ]
  },
  {
   "cell_type": "code",
   "execution_count": 8,
   "metadata": {},
   "outputs": [
    {
     "name": "stdout",
     "output_type": "stream",
     "text": [
      "<class 'pandas.core.frame.DataFrame'>\n",
      "RangeIndex: 7731240 entries, 0 to 7731239\n",
      "Data columns (total 2 columns):\n",
      " #   Column                                                   Dtype \n",
      "---  ------                                                   ----- \n",
      " 0   2015-03-25 21:15:00                                      object\n",
      " 1   KCXP 252115Z AUTO 08005KT 10SM CLR 17/M01 A3033 RMK AO2  object\n",
      "dtypes: object(2)\n",
      "memory usage: 118.0+ MB\n"
     ]
    }
   ],
   "source": [
    "df.info()"
   ]
  },
  {
   "cell_type": "code",
   "execution_count": 9,
   "metadata": {},
   "outputs": [],
   "source": [
    "col_names = ['date', 'id', 'obsv_time', 'automated', 'wind_speed', 'visibility', 'cloud_cover', \\\n",
    "            'temp_dewpt', 'altimeter', 'altimeter_remarks', 'ao2']"
   ]
  },
  {
   "cell_type": "code",
   "execution_count": 10,
   "metadata": {},
   "outputs": [],
   "source": [
    "df2 = pd.read_csv(metar, delimiter=' ', header=None, names =col_names)"
   ]
  },
  {
   "cell_type": "markdown",
   "metadata": {},
   "source": [
    "A link to a PDF for breakdown of METAR code:\n",
    "https://business.desu.edu/sites/business/files/document/16/metar_and_taf_codes.pdf"
   ]
  },
  {
   "cell_type": "code",
   "execution_count": 11,
   "metadata": {},
   "outputs": [
    {
     "data": {
      "text/html": [
       "<div>\n",
       "<style scoped>\n",
       "    .dataframe tbody tr th:only-of-type {\n",
       "        vertical-align: middle;\n",
       "    }\n",
       "\n",
       "    .dataframe tbody tr th {\n",
       "        vertical-align: top;\n",
       "    }\n",
       "\n",
       "    .dataframe thead th {\n",
       "        text-align: right;\n",
       "    }\n",
       "</style>\n",
       "<table border=\"1\" class=\"dataframe\">\n",
       "  <thead>\n",
       "    <tr style=\"text-align: right;\">\n",
       "      <th></th>\n",
       "      <th>date</th>\n",
       "      <th>id</th>\n",
       "      <th>obsv_time</th>\n",
       "      <th>automated</th>\n",
       "      <th>wind_speed</th>\n",
       "      <th>visibility</th>\n",
       "      <th>cloud_cover</th>\n",
       "      <th>temp_dewpt</th>\n",
       "      <th>altimeter</th>\n",
       "      <th>altimeter_remarks</th>\n",
       "      <th>ao2</th>\n",
       "    </tr>\n",
       "  </thead>\n",
       "  <tbody>\n",
       "    <tr>\n",
       "      <th>0</th>\n",
       "      <td>2015-03-25</td>\n",
       "      <td>21:15:00\\tKCXP</td>\n",
       "      <td>252115Z</td>\n",
       "      <td>AUTO</td>\n",
       "      <td>08005KT</td>\n",
       "      <td>10SM</td>\n",
       "      <td>CLR</td>\n",
       "      <td>17/M01</td>\n",
       "      <td>A3033</td>\n",
       "      <td>RMK</td>\n",
       "      <td>AO2</td>\n",
       "    </tr>\n",
       "    <tr>\n",
       "      <th>1</th>\n",
       "      <td>2015-03-25</td>\n",
       "      <td>21:13:00\\tKWRB</td>\n",
       "      <td>252113Z</td>\n",
       "      <td>AUTO</td>\n",
       "      <td>06005KT</td>\n",
       "      <td>10SM</td>\n",
       "      <td>BKN014</td>\n",
       "      <td>OVC024</td>\n",
       "      <td>20/17</td>\n",
       "      <td>A3009</td>\n",
       "      <td>RMK</td>\n",
       "    </tr>\n",
       "    <tr>\n",
       "      <th>2</th>\n",
       "      <td>2015-03-25</td>\n",
       "      <td>21:12:00\\tKTUL</td>\n",
       "      <td>252112Z</td>\n",
       "      <td>14006KT</td>\n",
       "      <td>10SM</td>\n",
       "      <td>TS</td>\n",
       "      <td>BKN035</td>\n",
       "      <td>BKN120</td>\n",
       "      <td>BKN250</td>\n",
       "      <td>24/16</td>\n",
       "      <td>A2975</td>\n",
       "    </tr>\n",
       "    <tr>\n",
       "      <th>3</th>\n",
       "      <td>2015-03-25</td>\n",
       "      <td>21:11:00\\tKDRT</td>\n",
       "      <td>252111Z</td>\n",
       "      <td>AUTO</td>\n",
       "      <td>13007KT</td>\n",
       "      <td>10SM</td>\n",
       "      <td>SCT023</td>\n",
       "      <td>22/17</td>\n",
       "      <td>A2986</td>\n",
       "      <td>RMK</td>\n",
       "      <td>AO2</td>\n",
       "    </tr>\n",
       "    <tr>\n",
       "      <th>4</th>\n",
       "      <td>2015-03-25</td>\n",
       "      <td>21:10:00\\tKBRL</td>\n",
       "      <td>252110Z</td>\n",
       "      <td>AUTO</td>\n",
       "      <td>33009KT</td>\n",
       "      <td>8SM</td>\n",
       "      <td>SCT016</td>\n",
       "      <td>07/03</td>\n",
       "      <td>A3006</td>\n",
       "      <td>RMK</td>\n",
       "      <td>AO2</td>\n",
       "    </tr>\n",
       "  </tbody>\n",
       "</table>\n",
       "</div>"
      ],
      "text/plain": [
       "         date              id obsv_time automated wind_speed visibility  \\\n",
       "0  2015-03-25  21:15:00\\tKCXP   252115Z      AUTO    08005KT       10SM   \n",
       "1  2015-03-25  21:13:00\\tKWRB   252113Z      AUTO    06005KT       10SM   \n",
       "2  2015-03-25  21:12:00\\tKTUL   252112Z   14006KT       10SM         TS   \n",
       "3  2015-03-25  21:11:00\\tKDRT   252111Z      AUTO    13007KT       10SM   \n",
       "4  2015-03-25  21:10:00\\tKBRL   252110Z      AUTO    33009KT        8SM   \n",
       "\n",
       "  cloud_cover temp_dewpt altimeter altimeter_remarks    ao2  \n",
       "0         CLR     17/M01     A3033               RMK    AO2  \n",
       "1      BKN014     OVC024     20/17             A3009    RMK  \n",
       "2      BKN035     BKN120    BKN250             24/16  A2975  \n",
       "3      SCT023      22/17     A2986               RMK    AO2  \n",
       "4      SCT016      07/03     A3006               RMK    AO2  "
      ]
     },
     "execution_count": 11,
     "metadata": {},
     "output_type": "execute_result"
    }
   ],
   "source": [
    "df2.head()"
   ]
  },
  {
   "cell_type": "code",
   "execution_count": 12,
   "metadata": {},
   "outputs": [
    {
     "data": {
      "text/plain": [
       "AUTO           4361474\n",
       "00000KT         420787\n",
       "VRB03KT          40599\n",
       "COR              34505\n",
       "VRB04KT          32273\n",
       "                ...   \n",
       "25034G46KT           1\n",
       "28015G20             1\n",
       "130015G20KT          1\n",
       "18014G16KT           1\n",
       "06007G22KT           1\n",
       "Name: automated, Length: 17944, dtype: int64"
      ]
     },
     "execution_count": 12,
     "metadata": {},
     "output_type": "execute_result"
    }
   ],
   "source": [
    "df2['automated'].value_counts()"
   ]
  },
  {
   "cell_type": "code",
   "execution_count": 13,
   "metadata": {},
   "outputs": [
    {
     "name": "stderr",
     "output_type": "stream",
     "text": [
      "C:\\Users\\pam\\anaconda3\\lib\\site-packages\\ipykernel_launcher.py:1: FutureWarning: Columnar iteration over characters will be deprecated in future releases.\n",
      "  \"\"\"Entry point for launching an IPython kernel.\n"
     ]
    }
   ],
   "source": [
    "df2['time'], df2['id'] = df2['id'].str.split('\\t', 1).str"
   ]
  },
  {
   "cell_type": "code",
   "execution_count": 14,
   "metadata": {},
   "outputs": [
    {
     "data": {
      "text/html": [
       "<div>\n",
       "<style scoped>\n",
       "    .dataframe tbody tr th:only-of-type {\n",
       "        vertical-align: middle;\n",
       "    }\n",
       "\n",
       "    .dataframe tbody tr th {\n",
       "        vertical-align: top;\n",
       "    }\n",
       "\n",
       "    .dataframe thead th {\n",
       "        text-align: right;\n",
       "    }\n",
       "</style>\n",
       "<table border=\"1\" class=\"dataframe\">\n",
       "  <thead>\n",
       "    <tr style=\"text-align: right;\">\n",
       "      <th></th>\n",
       "      <th>date</th>\n",
       "      <th>id</th>\n",
       "      <th>obsv_time</th>\n",
       "      <th>automated</th>\n",
       "      <th>wind_speed</th>\n",
       "      <th>visibility</th>\n",
       "      <th>cloud_cover</th>\n",
       "      <th>temp_dewpt</th>\n",
       "      <th>altimeter</th>\n",
       "      <th>altimeter_remarks</th>\n",
       "      <th>ao2</th>\n",
       "      <th>time</th>\n",
       "    </tr>\n",
       "  </thead>\n",
       "  <tbody>\n",
       "    <tr>\n",
       "      <th>0</th>\n",
       "      <td>2015-03-25</td>\n",
       "      <td>KCXP</td>\n",
       "      <td>252115Z</td>\n",
       "      <td>AUTO</td>\n",
       "      <td>08005KT</td>\n",
       "      <td>10SM</td>\n",
       "      <td>CLR</td>\n",
       "      <td>17/M01</td>\n",
       "      <td>A3033</td>\n",
       "      <td>RMK</td>\n",
       "      <td>AO2</td>\n",
       "      <td>21:15:00</td>\n",
       "    </tr>\n",
       "    <tr>\n",
       "      <th>1</th>\n",
       "      <td>2015-03-25</td>\n",
       "      <td>KWRB</td>\n",
       "      <td>252113Z</td>\n",
       "      <td>AUTO</td>\n",
       "      <td>06005KT</td>\n",
       "      <td>10SM</td>\n",
       "      <td>BKN014</td>\n",
       "      <td>OVC024</td>\n",
       "      <td>20/17</td>\n",
       "      <td>A3009</td>\n",
       "      <td>RMK</td>\n",
       "      <td>21:13:00</td>\n",
       "    </tr>\n",
       "    <tr>\n",
       "      <th>2</th>\n",
       "      <td>2015-03-25</td>\n",
       "      <td>KTUL</td>\n",
       "      <td>252112Z</td>\n",
       "      <td>14006KT</td>\n",
       "      <td>10SM</td>\n",
       "      <td>TS</td>\n",
       "      <td>BKN035</td>\n",
       "      <td>BKN120</td>\n",
       "      <td>BKN250</td>\n",
       "      <td>24/16</td>\n",
       "      <td>A2975</td>\n",
       "      <td>21:12:00</td>\n",
       "    </tr>\n",
       "    <tr>\n",
       "      <th>3</th>\n",
       "      <td>2015-03-25</td>\n",
       "      <td>KDRT</td>\n",
       "      <td>252111Z</td>\n",
       "      <td>AUTO</td>\n",
       "      <td>13007KT</td>\n",
       "      <td>10SM</td>\n",
       "      <td>SCT023</td>\n",
       "      <td>22/17</td>\n",
       "      <td>A2986</td>\n",
       "      <td>RMK</td>\n",
       "      <td>AO2</td>\n",
       "      <td>21:11:00</td>\n",
       "    </tr>\n",
       "    <tr>\n",
       "      <th>4</th>\n",
       "      <td>2015-03-25</td>\n",
       "      <td>KBRL</td>\n",
       "      <td>252110Z</td>\n",
       "      <td>AUTO</td>\n",
       "      <td>33009KT</td>\n",
       "      <td>8SM</td>\n",
       "      <td>SCT016</td>\n",
       "      <td>07/03</td>\n",
       "      <td>A3006</td>\n",
       "      <td>RMK</td>\n",
       "      <td>AO2</td>\n",
       "      <td>21:10:00</td>\n",
       "    </tr>\n",
       "  </tbody>\n",
       "</table>\n",
       "</div>"
      ],
      "text/plain": [
       "         date    id obsv_time automated wind_speed visibility cloud_cover  \\\n",
       "0  2015-03-25  KCXP   252115Z      AUTO    08005KT       10SM         CLR   \n",
       "1  2015-03-25  KWRB   252113Z      AUTO    06005KT       10SM      BKN014   \n",
       "2  2015-03-25  KTUL   252112Z   14006KT       10SM         TS      BKN035   \n",
       "3  2015-03-25  KDRT   252111Z      AUTO    13007KT       10SM      SCT023   \n",
       "4  2015-03-25  KBRL   252110Z      AUTO    33009KT        8SM      SCT016   \n",
       "\n",
       "  temp_dewpt altimeter altimeter_remarks    ao2      time  \n",
       "0     17/M01     A3033               RMK    AO2  21:15:00  \n",
       "1     OVC024     20/17             A3009    RMK  21:13:00  \n",
       "2     BKN120    BKN250             24/16  A2975  21:12:00  \n",
       "3      22/17     A2986               RMK    AO2  21:11:00  \n",
       "4      07/03     A3006               RMK    AO2  21:10:00  "
      ]
     },
     "execution_count": 14,
     "metadata": {},
     "output_type": "execute_result"
    }
   ],
   "source": [
    "df2.head()"
   ]
  },
  {
   "cell_type": "markdown",
   "metadata": {},
   "source": [
    "Need to move some of the automated values over."
   ]
  },
  {
   "cell_type": "code",
   "execution_count": 16,
   "metadata": {},
   "outputs": [
    {
     "name": "stdout",
     "output_type": "stream",
     "text": [
      "4361474\n",
      "3369767\n"
     ]
    }
   ],
   "source": [
    "auto = 0\n",
    "not_auto = 0\n",
    "\n",
    "for i in df2['automated']:\n",
    "    if i == 'AUTO':\n",
    "        auto += 1\n",
    "    elif i != 'AUTO':\n",
    "        not_auto += 1\n",
    "    else:\n",
    "        continue\n",
    "\n",
    "print(auto)\n",
    "print(not_auto)"
   ]
  },
  {
   "cell_type": "code",
   "execution_count": 17,
   "metadata": {},
   "outputs": [
    {
     "name": "stdout",
     "output_type": "stream",
     "text": [
      "0.564136339819183\n",
      "0.435863660180817\n"
     ]
    }
   ],
   "source": [
    "print(auto / len(df2))\n",
    "print(not_auto / len(df2))"
   ]
  },
  {
   "cell_type": "markdown",
   "metadata": {},
   "source": [
    "Roughly half our values are not auto. Can either throw them out or shift them."
   ]
  },
  {
   "cell_type": "markdown",
   "metadata": {},
   "source": [
    "Figure out if I should shift them or not."
   ]
  },
  {
   "cell_type": "markdown",
   "metadata": {},
   "source": [
    "---"
   ]
  },
  {
   "cell_type": "code",
   "execution_count": 18,
   "metadata": {},
   "outputs": [],
   "source": [
    "df = df2.copy()"
   ]
  },
  {
   "cell_type": "markdown",
   "metadata": {},
   "source": [
    "Should I create two separate dataframes? Or not worry about the Auto col?\n",
    "\n",
    "Try rule based approaches:\n",
    "Try to parse KT at the end and then you know you're looking at Wind Speed\n",
    "Same with Automated\n",
    "\n"
   ]
  },
  {
   "cell_type": "code",
   "execution_count": 19,
   "metadata": {},
   "outputs": [
    {
     "data": {
      "text/html": [
       "<div>\n",
       "<style scoped>\n",
       "    .dataframe tbody tr th:only-of-type {\n",
       "        vertical-align: middle;\n",
       "    }\n",
       "\n",
       "    .dataframe tbody tr th {\n",
       "        vertical-align: top;\n",
       "    }\n",
       "\n",
       "    .dataframe thead th {\n",
       "        text-align: right;\n",
       "    }\n",
       "</style>\n",
       "<table border=\"1\" class=\"dataframe\">\n",
       "  <thead>\n",
       "    <tr style=\"text-align: right;\">\n",
       "      <th></th>\n",
       "      <th>date</th>\n",
       "      <th>id</th>\n",
       "      <th>obsv_time</th>\n",
       "      <th>automated</th>\n",
       "      <th>wind_speed</th>\n",
       "      <th>visibility</th>\n",
       "      <th>cloud_cover</th>\n",
       "      <th>temp_dewpt</th>\n",
       "      <th>altimeter</th>\n",
       "      <th>altimeter_remarks</th>\n",
       "      <th>ao2</th>\n",
       "      <th>time</th>\n",
       "    </tr>\n",
       "  </thead>\n",
       "  <tbody>\n",
       "    <tr>\n",
       "      <th>0</th>\n",
       "      <td>2015-03-25</td>\n",
       "      <td>KCXP</td>\n",
       "      <td>252115Z</td>\n",
       "      <td>AUTO</td>\n",
       "      <td>08005KT</td>\n",
       "      <td>10SM</td>\n",
       "      <td>CLR</td>\n",
       "      <td>17/M01</td>\n",
       "      <td>A3033</td>\n",
       "      <td>RMK</td>\n",
       "      <td>AO2</td>\n",
       "      <td>21:15:00</td>\n",
       "    </tr>\n",
       "    <tr>\n",
       "      <th>1</th>\n",
       "      <td>2015-03-25</td>\n",
       "      <td>KWRB</td>\n",
       "      <td>252113Z</td>\n",
       "      <td>AUTO</td>\n",
       "      <td>06005KT</td>\n",
       "      <td>10SM</td>\n",
       "      <td>BKN014</td>\n",
       "      <td>OVC024</td>\n",
       "      <td>20/17</td>\n",
       "      <td>A3009</td>\n",
       "      <td>RMK</td>\n",
       "      <td>21:13:00</td>\n",
       "    </tr>\n",
       "    <tr>\n",
       "      <th>2</th>\n",
       "      <td>2015-03-25</td>\n",
       "      <td>KTUL</td>\n",
       "      <td>252112Z</td>\n",
       "      <td>14006KT</td>\n",
       "      <td>10SM</td>\n",
       "      <td>TS</td>\n",
       "      <td>BKN035</td>\n",
       "      <td>BKN120</td>\n",
       "      <td>BKN250</td>\n",
       "      <td>24/16</td>\n",
       "      <td>A2975</td>\n",
       "      <td>21:12:00</td>\n",
       "    </tr>\n",
       "    <tr>\n",
       "      <th>3</th>\n",
       "      <td>2015-03-25</td>\n",
       "      <td>KDRT</td>\n",
       "      <td>252111Z</td>\n",
       "      <td>AUTO</td>\n",
       "      <td>13007KT</td>\n",
       "      <td>10SM</td>\n",
       "      <td>SCT023</td>\n",
       "      <td>22/17</td>\n",
       "      <td>A2986</td>\n",
       "      <td>RMK</td>\n",
       "      <td>AO2</td>\n",
       "      <td>21:11:00</td>\n",
       "    </tr>\n",
       "    <tr>\n",
       "      <th>4</th>\n",
       "      <td>2015-03-25</td>\n",
       "      <td>KBRL</td>\n",
       "      <td>252110Z</td>\n",
       "      <td>AUTO</td>\n",
       "      <td>33009KT</td>\n",
       "      <td>8SM</td>\n",
       "      <td>SCT016</td>\n",
       "      <td>07/03</td>\n",
       "      <td>A3006</td>\n",
       "      <td>RMK</td>\n",
       "      <td>AO2</td>\n",
       "      <td>21:10:00</td>\n",
       "    </tr>\n",
       "  </tbody>\n",
       "</table>\n",
       "</div>"
      ],
      "text/plain": [
       "         date    id obsv_time automated wind_speed visibility cloud_cover  \\\n",
       "0  2015-03-25  KCXP   252115Z      AUTO    08005KT       10SM         CLR   \n",
       "1  2015-03-25  KWRB   252113Z      AUTO    06005KT       10SM      BKN014   \n",
       "2  2015-03-25  KTUL   252112Z   14006KT       10SM         TS      BKN035   \n",
       "3  2015-03-25  KDRT   252111Z      AUTO    13007KT       10SM      SCT023   \n",
       "4  2015-03-25  KBRL   252110Z      AUTO    33009KT        8SM      SCT016   \n",
       "\n",
       "  temp_dewpt altimeter altimeter_remarks    ao2      time  \n",
       "0     17/M01     A3033               RMK    AO2  21:15:00  \n",
       "1     OVC024     20/17             A3009    RMK  21:13:00  \n",
       "2     BKN120    BKN250             24/16  A2975  21:12:00  \n",
       "3      22/17     A2986               RMK    AO2  21:11:00  \n",
       "4      07/03     A3006               RMK    AO2  21:10:00  "
      ]
     },
     "execution_count": 19,
     "metadata": {},
     "output_type": "execute_result"
    }
   ],
   "source": [
    "df.head()"
   ]
  },
  {
   "cell_type": "code",
   "execution_count": null,
   "metadata": {},
   "outputs": [],
   "source": []
  }
 ],
 "metadata": {
  "kernelspec": {
   "display_name": "Python 3",
   "language": "python",
   "name": "python3"
  },
  "language_info": {
   "codemirror_mode": {
    "name": "ipython",
    "version": 3
   },
   "file_extension": ".py",
   "mimetype": "text/x-python",
   "name": "python",
   "nbconvert_exporter": "python",
   "pygments_lexer": "ipython3",
   "version": "3.7.6"
  }
 },
 "nbformat": 4,
 "nbformat_minor": 4
}
