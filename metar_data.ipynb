{
 "cells": [
  {
   "cell_type": "markdown",
   "metadata": {},
   "source": [
    "# METAR Data Analysis Project"
   ]
  },
  {
   "cell_type": "markdown",
   "metadata": {},
   "source": [
    "METAR is the acronym for Meteorological Aerodrome Report. It is internationally recognized shorthand for weather data used by the aviation community."
   ]
  },
  {
   "cell_type": "markdown",
   "metadata": {},
   "source": [
    "### The Problem:\n",
    "\n",
    "A Flight school is looking to expand to new locations. You're given METAR data to identify the 10 best and 10 worst locations based on the following criteria:\n",
    "\n",
    "* Visibility of 10 statute miles or greater \n",
    "\n",
    "* Cloud ceiling of 3,000 ft above ground or higher\n",
    "\n",
    "* Winds less than 15 kts"
   ]
  },
  {
   "cell_type": "code",
   "execution_count": 1,
   "metadata": {},
   "outputs": [],
   "source": [
    "import pandas as pd\n",
    "import numpy as np\n",
    "import matplotlib.pyplot as plt\n",
    "import seaborn as sns\n",
    "import warnings\n",
    "\n",
    "%matplotlib inline"
   ]
  },
  {
   "cell_type": "code",
   "execution_count": 2,
   "metadata": {},
   "outputs": [],
   "source": [
    "metar = 'metar_data_export.txt'"
   ]
  },
  {
   "cell_type": "markdown",
   "metadata": {},
   "source": [
    "### Data Import"
   ]
  },
  {
   "cell_type": "code",
   "execution_count": 3,
   "metadata": {},
   "outputs": [],
   "source": [
    "df = pd.read_csv(metar, delimiter='\\t')"
   ]
  },
  {
   "cell_type": "code",
   "execution_count": 4,
   "metadata": {},
   "outputs": [
    {
     "data": {
      "text/html": [
       "<div>\n",
       "<style scoped>\n",
       "    .dataframe tbody tr th:only-of-type {\n",
       "        vertical-align: middle;\n",
       "    }\n",
       "\n",
       "    .dataframe tbody tr th {\n",
       "        vertical-align: top;\n",
       "    }\n",
       "\n",
       "    .dataframe thead th {\n",
       "        text-align: right;\n",
       "    }\n",
       "</style>\n",
       "<table border=\"1\" class=\"dataframe\">\n",
       "  <thead>\n",
       "    <tr style=\"text-align: right;\">\n",
       "      <th></th>\n",
       "      <th>2015-03-25 21:15:00</th>\n",
       "      <th>KCXP 252115Z AUTO 08005KT 10SM CLR 17/M01 A3033 RMK AO2</th>\n",
       "    </tr>\n",
       "  </thead>\n",
       "  <tbody>\n",
       "    <tr>\n",
       "      <th>0</th>\n",
       "      <td>2015-03-25 21:13:00</td>\n",
       "      <td>KWRB 252113Z AUTO 06005KT 10SM BKN014 OVC024 2...</td>\n",
       "    </tr>\n",
       "    <tr>\n",
       "      <th>1</th>\n",
       "      <td>2015-03-25 21:12:00</td>\n",
       "      <td>KTUL 252112Z 14006KT 10SM TS BKN035 BKN120 BKN...</td>\n",
       "    </tr>\n",
       "    <tr>\n",
       "      <th>2</th>\n",
       "      <td>2015-03-25 21:11:00</td>\n",
       "      <td>KDRT 252111Z AUTO 13007KT 10SM SCT023 22/17 A2...</td>\n",
       "    </tr>\n",
       "    <tr>\n",
       "      <th>3</th>\n",
       "      <td>2015-03-25 21:10:00</td>\n",
       "      <td>KBRL 252110Z AUTO 33009KT 8SM SCT016 07/03 A30...</td>\n",
       "    </tr>\n",
       "    <tr>\n",
       "      <th>4</th>\n",
       "      <td>2015-03-25 21:10:00</td>\n",
       "      <td>KCMX 252110Z AUTO 26016KT 4SM -SN BR OVC007 01...</td>\n",
       "    </tr>\n",
       "  </tbody>\n",
       "</table>\n",
       "</div>"
      ],
      "text/plain": [
       "   2015-03-25 21:15:00 KCXP 252115Z AUTO 08005KT 10SM CLR 17/M01 A3033 RMK AO2\n",
       "0  2015-03-25 21:13:00  KWRB 252113Z AUTO 06005KT 10SM BKN014 OVC024 2...     \n",
       "1  2015-03-25 21:12:00  KTUL 252112Z 14006KT 10SM TS BKN035 BKN120 BKN...     \n",
       "2  2015-03-25 21:11:00  KDRT 252111Z AUTO 13007KT 10SM SCT023 22/17 A2...     \n",
       "3  2015-03-25 21:10:00  KBRL 252110Z AUTO 33009KT 8SM SCT016 07/03 A30...     \n",
       "4  2015-03-25 21:10:00  KCMX 252110Z AUTO 26016KT 4SM -SN BR OVC007 01...     "
      ]
     },
     "execution_count": 4,
     "metadata": {},
     "output_type": "execute_result"
    }
   ],
   "source": [
    "df.head()"
   ]
  },
  {
   "cell_type": "code",
   "execution_count": 5,
   "metadata": {},
   "outputs": [
    {
     "data": {
      "text/plain": [
       "(7731240, 2)"
      ]
     },
     "execution_count": 5,
     "metadata": {},
     "output_type": "execute_result"
    }
   ],
   "source": [
    "df.shape"
   ]
  },
  {
   "cell_type": "code",
   "execution_count": 6,
   "metadata": {},
   "outputs": [
    {
     "name": "stdout",
     "output_type": "stream",
     "text": [
      "<class 'pandas.core.frame.DataFrame'>\n",
      "RangeIndex: 7731240 entries, 0 to 7731239\n",
      "Data columns (total 2 columns):\n",
      " #   Column                                                   Dtype \n",
      "---  ------                                                   ----- \n",
      " 0   2015-03-25 21:15:00                                      object\n",
      " 1   KCXP 252115Z AUTO 08005KT 10SM CLR 17/M01 A3033 RMK AO2  object\n",
      "dtypes: object(2)\n",
      "memory usage: 59.0+ MB\n"
     ]
    }
   ],
   "source": [
    "df.info()"
   ]
  },
  {
   "cell_type": "markdown",
   "metadata": {},
   "source": [
    "The initial data import has two columns which would require more data cleaning. Reattempting data import with a different delimiter."
   ]
  },
  {
   "cell_type": "markdown",
   "metadata": {},
   "source": [
    "What each code corresponds to:\n",
    "\n",
    "https://business.desu.edu/sites/business/files/document/16/metar_and_taf_codes.pdf"
   ]
  },
  {
   "cell_type": "code",
   "execution_count": 6,
   "metadata": {},
   "outputs": [],
   "source": [
    "col_names = ['date', 'id', 'obsv_time', 'automated', 'wind_speed', 'visibility', 'cloud_cover', \\\n",
    "            'temp_dewpt', 'altimeter', 'altimeter_remarks', 'ao2']"
   ]
  },
  {
   "cell_type": "code",
   "execution_count": 7,
   "metadata": {},
   "outputs": [],
   "source": [
    "df2 = pd.read_csv(metar, delimiter=' ', header = None, names = col_names)"
   ]
  },
  {
   "cell_type": "code",
   "execution_count": 8,
   "metadata": {},
   "outputs": [
    {
     "data": {
      "text/html": [
       "<div>\n",
       "<style scoped>\n",
       "    .dataframe tbody tr th:only-of-type {\n",
       "        vertical-align: middle;\n",
       "    }\n",
       "\n",
       "    .dataframe tbody tr th {\n",
       "        vertical-align: top;\n",
       "    }\n",
       "\n",
       "    .dataframe thead th {\n",
       "        text-align: right;\n",
       "    }\n",
       "</style>\n",
       "<table border=\"1\" class=\"dataframe\">\n",
       "  <thead>\n",
       "    <tr style=\"text-align: right;\">\n",
       "      <th></th>\n",
       "      <th>date</th>\n",
       "      <th>id</th>\n",
       "      <th>obsv_time</th>\n",
       "      <th>automated</th>\n",
       "      <th>wind_speed</th>\n",
       "      <th>visibility</th>\n",
       "      <th>cloud_cover</th>\n",
       "      <th>temp_dewpt</th>\n",
       "      <th>altimeter</th>\n",
       "      <th>altimeter_remarks</th>\n",
       "      <th>ao2</th>\n",
       "    </tr>\n",
       "  </thead>\n",
       "  <tbody>\n",
       "    <tr>\n",
       "      <th>0</th>\n",
       "      <td>2015-03-25</td>\n",
       "      <td>21:15:00\\tKCXP</td>\n",
       "      <td>252115Z</td>\n",
       "      <td>AUTO</td>\n",
       "      <td>08005KT</td>\n",
       "      <td>10SM</td>\n",
       "      <td>CLR</td>\n",
       "      <td>17/M01</td>\n",
       "      <td>A3033</td>\n",
       "      <td>RMK</td>\n",
       "      <td>AO2</td>\n",
       "    </tr>\n",
       "    <tr>\n",
       "      <th>1</th>\n",
       "      <td>2015-03-25</td>\n",
       "      <td>21:13:00\\tKWRB</td>\n",
       "      <td>252113Z</td>\n",
       "      <td>AUTO</td>\n",
       "      <td>06005KT</td>\n",
       "      <td>10SM</td>\n",
       "      <td>BKN014</td>\n",
       "      <td>OVC024</td>\n",
       "      <td>20/17</td>\n",
       "      <td>A3009</td>\n",
       "      <td>RMK</td>\n",
       "    </tr>\n",
       "    <tr>\n",
       "      <th>2</th>\n",
       "      <td>2015-03-25</td>\n",
       "      <td>21:12:00\\tKTUL</td>\n",
       "      <td>252112Z</td>\n",
       "      <td>14006KT</td>\n",
       "      <td>10SM</td>\n",
       "      <td>TS</td>\n",
       "      <td>BKN035</td>\n",
       "      <td>BKN120</td>\n",
       "      <td>BKN250</td>\n",
       "      <td>24/16</td>\n",
       "      <td>A2975</td>\n",
       "    </tr>\n",
       "    <tr>\n",
       "      <th>3</th>\n",
       "      <td>2015-03-25</td>\n",
       "      <td>21:11:00\\tKDRT</td>\n",
       "      <td>252111Z</td>\n",
       "      <td>AUTO</td>\n",
       "      <td>13007KT</td>\n",
       "      <td>10SM</td>\n",
       "      <td>SCT023</td>\n",
       "      <td>22/17</td>\n",
       "      <td>A2986</td>\n",
       "      <td>RMK</td>\n",
       "      <td>AO2</td>\n",
       "    </tr>\n",
       "    <tr>\n",
       "      <th>4</th>\n",
       "      <td>2015-03-25</td>\n",
       "      <td>21:10:00\\tKBRL</td>\n",
       "      <td>252110Z</td>\n",
       "      <td>AUTO</td>\n",
       "      <td>33009KT</td>\n",
       "      <td>8SM</td>\n",
       "      <td>SCT016</td>\n",
       "      <td>07/03</td>\n",
       "      <td>A3006</td>\n",
       "      <td>RMK</td>\n",
       "      <td>AO2</td>\n",
       "    </tr>\n",
       "  </tbody>\n",
       "</table>\n",
       "</div>"
      ],
      "text/plain": [
       "         date              id obsv_time automated wind_speed visibility  \\\n",
       "0  2015-03-25  21:15:00\\tKCXP   252115Z      AUTO    08005KT       10SM   \n",
       "1  2015-03-25  21:13:00\\tKWRB   252113Z      AUTO    06005KT       10SM   \n",
       "2  2015-03-25  21:12:00\\tKTUL   252112Z   14006KT       10SM         TS   \n",
       "3  2015-03-25  21:11:00\\tKDRT   252111Z      AUTO    13007KT       10SM   \n",
       "4  2015-03-25  21:10:00\\tKBRL   252110Z      AUTO    33009KT        8SM   \n",
       "\n",
       "  cloud_cover temp_dewpt altimeter altimeter_remarks    ao2  \n",
       "0         CLR     17/M01     A3033               RMK    AO2  \n",
       "1      BKN014     OVC024     20/17             A3009    RMK  \n",
       "2      BKN035     BKN120    BKN250             24/16  A2975  \n",
       "3      SCT023      22/17     A2986               RMK    AO2  \n",
       "4      SCT016      07/03     A3006               RMK    AO2  "
      ]
     },
     "execution_count": 8,
     "metadata": {},
     "output_type": "execute_result"
    }
   ],
   "source": [
    "df2.head()"
   ]
  },
  {
   "cell_type": "code",
   "execution_count": 11,
   "metadata": {},
   "outputs": [
    {
     "name": "stderr",
     "output_type": "stream",
     "text": [
      "C:\\Users\\pam\\anaconda3\\lib\\site-packages\\ipykernel_launcher.py:1: FutureWarning: Columnar iteration over characters will be deprecated in future releases.\n",
      "  \"\"\"Entry point for launching an IPython kernel.\n"
     ]
    },
    {
     "ename": "ValueError",
     "evalue": "not enough values to unpack (expected 2, got 1)",
     "output_type": "error",
     "traceback": [
      "\u001b[1;31m---------------------------------------------------------------------------\u001b[0m",
      "\u001b[1;31mValueError\u001b[0m                                Traceback (most recent call last)",
      "\u001b[1;32m<ipython-input-11-ff4e90acb27f>\u001b[0m in \u001b[0;36m<module>\u001b[1;34m\u001b[0m\n\u001b[1;32m----> 1\u001b[1;33m \u001b[0mdf2\u001b[0m\u001b[1;33m[\u001b[0m\u001b[1;34m'time'\u001b[0m\u001b[1;33m]\u001b[0m\u001b[1;33m,\u001b[0m \u001b[0mdf2\u001b[0m\u001b[1;33m[\u001b[0m\u001b[1;34m'id'\u001b[0m\u001b[1;33m]\u001b[0m \u001b[1;33m=\u001b[0m \u001b[0mdf2\u001b[0m\u001b[1;33m[\u001b[0m\u001b[1;34m'id'\u001b[0m\u001b[1;33m]\u001b[0m\u001b[1;33m.\u001b[0m\u001b[0mstr\u001b[0m\u001b[1;33m.\u001b[0m\u001b[0msplit\u001b[0m\u001b[1;33m(\u001b[0m\u001b[1;34m'\\t'\u001b[0m\u001b[1;33m,\u001b[0m \u001b[1;36m1\u001b[0m\u001b[1;33m)\u001b[0m\u001b[1;33m.\u001b[0m\u001b[0mstr\u001b[0m\u001b[1;33m\u001b[0m\u001b[1;33m\u001b[0m\u001b[0m\n\u001b[0m",
      "\u001b[1;31mValueError\u001b[0m: not enough values to unpack (expected 2, got 1)"
     ]
    }
   ],
   "source": [
    "df2['time'], df2['id'] = df2['id'].str.split('\\t', 1).str"
   ]
  },
  {
   "cell_type": "code",
   "execution_count": 12,
   "metadata": {},
   "outputs": [],
   "source": [
    "assert len(df2['time']) == len(df2['id'])"
   ]
  },
  {
   "cell_type": "code",
   "execution_count": 13,
   "metadata": {},
   "outputs": [
    {
     "data": {
      "text/html": [
       "<div>\n",
       "<style scoped>\n",
       "    .dataframe tbody tr th:only-of-type {\n",
       "        vertical-align: middle;\n",
       "    }\n",
       "\n",
       "    .dataframe tbody tr th {\n",
       "        vertical-align: top;\n",
       "    }\n",
       "\n",
       "    .dataframe thead th {\n",
       "        text-align: right;\n",
       "    }\n",
       "</style>\n",
       "<table border=\"1\" class=\"dataframe\">\n",
       "  <thead>\n",
       "    <tr style=\"text-align: right;\">\n",
       "      <th></th>\n",
       "      <th>date</th>\n",
       "      <th>id</th>\n",
       "      <th>obsv_time</th>\n",
       "      <th>automated</th>\n",
       "      <th>wind_speed</th>\n",
       "      <th>visibility</th>\n",
       "      <th>cloud_cover</th>\n",
       "      <th>temp_dewpt</th>\n",
       "      <th>altimeter</th>\n",
       "      <th>altimeter_remarks</th>\n",
       "      <th>ao2</th>\n",
       "      <th>time</th>\n",
       "    </tr>\n",
       "  </thead>\n",
       "  <tbody>\n",
       "    <tr>\n",
       "      <th>0</th>\n",
       "      <td>2015-03-25</td>\n",
       "      <td>KCXP</td>\n",
       "      <td>252115Z</td>\n",
       "      <td>AUTO</td>\n",
       "      <td>08005KT</td>\n",
       "      <td>10SM</td>\n",
       "      <td>CLR</td>\n",
       "      <td>17/M01</td>\n",
       "      <td>A3033</td>\n",
       "      <td>RMK</td>\n",
       "      <td>AO2</td>\n",
       "      <td>21:15:00</td>\n",
       "    </tr>\n",
       "    <tr>\n",
       "      <th>1</th>\n",
       "      <td>2015-03-25</td>\n",
       "      <td>KWRB</td>\n",
       "      <td>252113Z</td>\n",
       "      <td>AUTO</td>\n",
       "      <td>06005KT</td>\n",
       "      <td>10SM</td>\n",
       "      <td>BKN014</td>\n",
       "      <td>OVC024</td>\n",
       "      <td>20/17</td>\n",
       "      <td>A3009</td>\n",
       "      <td>RMK</td>\n",
       "      <td>21:13:00</td>\n",
       "    </tr>\n",
       "    <tr>\n",
       "      <th>2</th>\n",
       "      <td>2015-03-25</td>\n",
       "      <td>KTUL</td>\n",
       "      <td>252112Z</td>\n",
       "      <td>14006KT</td>\n",
       "      <td>10SM</td>\n",
       "      <td>TS</td>\n",
       "      <td>BKN035</td>\n",
       "      <td>BKN120</td>\n",
       "      <td>BKN250</td>\n",
       "      <td>24/16</td>\n",
       "      <td>A2975</td>\n",
       "      <td>21:12:00</td>\n",
       "    </tr>\n",
       "    <tr>\n",
       "      <th>3</th>\n",
       "      <td>2015-03-25</td>\n",
       "      <td>KDRT</td>\n",
       "      <td>252111Z</td>\n",
       "      <td>AUTO</td>\n",
       "      <td>13007KT</td>\n",
       "      <td>10SM</td>\n",
       "      <td>SCT023</td>\n",
       "      <td>22/17</td>\n",
       "      <td>A2986</td>\n",
       "      <td>RMK</td>\n",
       "      <td>AO2</td>\n",
       "      <td>21:11:00</td>\n",
       "    </tr>\n",
       "    <tr>\n",
       "      <th>4</th>\n",
       "      <td>2015-03-25</td>\n",
       "      <td>KBRL</td>\n",
       "      <td>252110Z</td>\n",
       "      <td>AUTO</td>\n",
       "      <td>33009KT</td>\n",
       "      <td>8SM</td>\n",
       "      <td>SCT016</td>\n",
       "      <td>07/03</td>\n",
       "      <td>A3006</td>\n",
       "      <td>RMK</td>\n",
       "      <td>AO2</td>\n",
       "      <td>21:10:00</td>\n",
       "    </tr>\n",
       "  </tbody>\n",
       "</table>\n",
       "</div>"
      ],
      "text/plain": [
       "         date    id obsv_time automated wind_speed visibility cloud_cover  \\\n",
       "0  2015-03-25  KCXP   252115Z      AUTO    08005KT       10SM         CLR   \n",
       "1  2015-03-25  KWRB   252113Z      AUTO    06005KT       10SM      BKN014   \n",
       "2  2015-03-25  KTUL   252112Z   14006KT       10SM         TS      BKN035   \n",
       "3  2015-03-25  KDRT   252111Z      AUTO    13007KT       10SM      SCT023   \n",
       "4  2015-03-25  KBRL   252110Z      AUTO    33009KT        8SM      SCT016   \n",
       "\n",
       "  temp_dewpt altimeter altimeter_remarks    ao2      time  \n",
       "0     17/M01     A3033               RMK    AO2  21:15:00  \n",
       "1     OVC024     20/17             A3009    RMK  21:13:00  \n",
       "2     BKN120    BKN250             24/16  A2975  21:12:00  \n",
       "3      22/17     A2986               RMK    AO2  21:11:00  \n",
       "4      07/03     A3006               RMK    AO2  21:10:00  "
      ]
     },
     "execution_count": 13,
     "metadata": {},
     "output_type": "execute_result"
    }
   ],
   "source": [
    "df2.head()"
   ]
  },
  {
   "cell_type": "code",
   "execution_count": 14,
   "metadata": {},
   "outputs": [
    {
     "data": {
      "text/plain": [
       "Index(['date', 'id', 'obsv_time', 'automated', 'wind_speed', 'visibility',\n",
       "       'cloud_cover', 'temp_dewpt', 'altimeter', 'altimeter_remarks', 'ao2',\n",
       "       'time'],\n",
       "      dtype='object')"
      ]
     },
     "execution_count": 14,
     "metadata": {},
     "output_type": "execute_result"
    }
   ],
   "source": [
    "df2.columns"
   ]
  },
  {
   "cell_type": "code",
   "execution_count": 22,
   "metadata": {},
   "outputs": [
    {
     "data": {
      "text/plain": [
       "['date',\n",
       " 'id',\n",
       " 'obsv_time',\n",
       " 'automated',\n",
       " 'wind_speed',\n",
       " 'visibility',\n",
       " 'cloud_cover',\n",
       " 'temp_dewpt',\n",
       " 'altimeter',\n",
       " 'altimeter_remarks',\n",
       " 'ao2',\n",
       " 'time']"
      ]
     },
     "execution_count": 22,
     "metadata": {},
     "output_type": "execute_result"
    }
   ],
   "source": [
    "cols = list(df2.columns)\n",
    "\n",
    "cols"
   ]
  },
  {
   "cell_type": "code",
   "execution_count": 23,
   "metadata": {},
   "outputs": [
    {
     "data": {
      "text/plain": [
       "['time',\n",
       " 'date',\n",
       " 'id',\n",
       " 'obsv_time',\n",
       " 'automated',\n",
       " 'wind_speed',\n",
       " 'visibility',\n",
       " 'cloud_cover',\n",
       " 'temp_dewpt',\n",
       " 'altimeter',\n",
       " 'altimeter_remarks',\n",
       " 'ao2']"
      ]
     },
     "execution_count": 23,
     "metadata": {},
     "output_type": "execute_result"
    }
   ],
   "source": [
    "cols = cols[-1:] + cols[:-1]\n",
    "\n",
    "cols"
   ]
  },
  {
   "cell_type": "code",
   "execution_count": 24,
   "metadata": {},
   "outputs": [],
   "source": [
    "df2 = df2[cols]"
   ]
  },
  {
   "cell_type": "code",
   "execution_count": 25,
   "metadata": {},
   "outputs": [
    {
     "data": {
      "text/html": [
       "<div>\n",
       "<style scoped>\n",
       "    .dataframe tbody tr th:only-of-type {\n",
       "        vertical-align: middle;\n",
       "    }\n",
       "\n",
       "    .dataframe tbody tr th {\n",
       "        vertical-align: top;\n",
       "    }\n",
       "\n",
       "    .dataframe thead th {\n",
       "        text-align: right;\n",
       "    }\n",
       "</style>\n",
       "<table border=\"1\" class=\"dataframe\">\n",
       "  <thead>\n",
       "    <tr style=\"text-align: right;\">\n",
       "      <th></th>\n",
       "      <th>time</th>\n",
       "      <th>date</th>\n",
       "      <th>id</th>\n",
       "      <th>obsv_time</th>\n",
       "      <th>automated</th>\n",
       "      <th>wind_speed</th>\n",
       "      <th>visibility</th>\n",
       "      <th>cloud_cover</th>\n",
       "      <th>temp_dewpt</th>\n",
       "      <th>altimeter</th>\n",
       "      <th>altimeter_remarks</th>\n",
       "      <th>ao2</th>\n",
       "    </tr>\n",
       "  </thead>\n",
       "  <tbody>\n",
       "    <tr>\n",
       "      <th>0</th>\n",
       "      <td>21:15:00</td>\n",
       "      <td>2015-03-25</td>\n",
       "      <td>KCXP</td>\n",
       "      <td>252115Z</td>\n",
       "      <td>AUTO</td>\n",
       "      <td>08005KT</td>\n",
       "      <td>10SM</td>\n",
       "      <td>CLR</td>\n",
       "      <td>17/M01</td>\n",
       "      <td>A3033</td>\n",
       "      <td>RMK</td>\n",
       "      <td>AO2</td>\n",
       "    </tr>\n",
       "    <tr>\n",
       "      <th>1</th>\n",
       "      <td>21:13:00</td>\n",
       "      <td>2015-03-25</td>\n",
       "      <td>KWRB</td>\n",
       "      <td>252113Z</td>\n",
       "      <td>AUTO</td>\n",
       "      <td>06005KT</td>\n",
       "      <td>10SM</td>\n",
       "      <td>BKN014</td>\n",
       "      <td>OVC024</td>\n",
       "      <td>20/17</td>\n",
       "      <td>A3009</td>\n",
       "      <td>RMK</td>\n",
       "    </tr>\n",
       "    <tr>\n",
       "      <th>2</th>\n",
       "      <td>21:12:00</td>\n",
       "      <td>2015-03-25</td>\n",
       "      <td>KTUL</td>\n",
       "      <td>252112Z</td>\n",
       "      <td>14006KT</td>\n",
       "      <td>10SM</td>\n",
       "      <td>TS</td>\n",
       "      <td>BKN035</td>\n",
       "      <td>BKN120</td>\n",
       "      <td>BKN250</td>\n",
       "      <td>24/16</td>\n",
       "      <td>A2975</td>\n",
       "    </tr>\n",
       "    <tr>\n",
       "      <th>3</th>\n",
       "      <td>21:11:00</td>\n",
       "      <td>2015-03-25</td>\n",
       "      <td>KDRT</td>\n",
       "      <td>252111Z</td>\n",
       "      <td>AUTO</td>\n",
       "      <td>13007KT</td>\n",
       "      <td>10SM</td>\n",
       "      <td>SCT023</td>\n",
       "      <td>22/17</td>\n",
       "      <td>A2986</td>\n",
       "      <td>RMK</td>\n",
       "      <td>AO2</td>\n",
       "    </tr>\n",
       "    <tr>\n",
       "      <th>4</th>\n",
       "      <td>21:10:00</td>\n",
       "      <td>2015-03-25</td>\n",
       "      <td>KBRL</td>\n",
       "      <td>252110Z</td>\n",
       "      <td>AUTO</td>\n",
       "      <td>33009KT</td>\n",
       "      <td>8SM</td>\n",
       "      <td>SCT016</td>\n",
       "      <td>07/03</td>\n",
       "      <td>A3006</td>\n",
       "      <td>RMK</td>\n",
       "      <td>AO2</td>\n",
       "    </tr>\n",
       "  </tbody>\n",
       "</table>\n",
       "</div>"
      ],
      "text/plain": [
       "       time        date    id obsv_time automated wind_speed visibility  \\\n",
       "0  21:15:00  2015-03-25  KCXP   252115Z      AUTO    08005KT       10SM   \n",
       "1  21:13:00  2015-03-25  KWRB   252113Z      AUTO    06005KT       10SM   \n",
       "2  21:12:00  2015-03-25  KTUL   252112Z   14006KT       10SM         TS   \n",
       "3  21:11:00  2015-03-25  KDRT   252111Z      AUTO    13007KT       10SM   \n",
       "4  21:10:00  2015-03-25  KBRL   252110Z      AUTO    33009KT        8SM   \n",
       "\n",
       "  cloud_cover temp_dewpt altimeter altimeter_remarks    ao2  \n",
       "0         CLR     17/M01     A3033               RMK    AO2  \n",
       "1      BKN014     OVC024     20/17             A3009    RMK  \n",
       "2      BKN035     BKN120    BKN250             24/16  A2975  \n",
       "3      SCT023      22/17     A2986               RMK    AO2  \n",
       "4      SCT016      07/03     A3006               RMK    AO2  "
      ]
     },
     "execution_count": 25,
     "metadata": {},
     "output_type": "execute_result"
    }
   ],
   "source": [
    "df2.head()"
   ]
  },
  {
   "cell_type": "markdown",
   "metadata": {},
   "source": [
    "Need to move some of the automated values over."
   ]
  },
  {
   "cell_type": "code",
   "execution_count": 26,
   "metadata": {},
   "outputs": [
    {
     "name": "stdout",
     "output_type": "stream",
     "text": [
      "Num. of Automated: 4361474\n",
      "Num. of Non-Automated: 3369767\n"
     ]
    }
   ],
   "source": [
    "auto = 0\n",
    "not_auto = 0\n",
    "\n",
    "for i in df2['automated']:\n",
    "    if i == 'AUTO':\n",
    "        auto += 1\n",
    "    elif i != 'AUTO':\n",
    "        not_auto += 1\n",
    "    else:\n",
    "        continue\n",
    "\n",
    "print(f\"Num. of Automated: {auto}\")\n",
    "print(f\"Num. of Non-Automated: {not_auto}\")"
   ]
  },
  {
   "cell_type": "code",
   "execution_count": 27,
   "metadata": {},
   "outputs": [
    {
     "name": "stdout",
     "output_type": "stream",
     "text": [
      "0.56\n",
      "0.44\n"
     ]
    }
   ],
   "source": [
    "print(round(auto / len(df2), 2))\n",
    "print(round(not_auto / len(df2), 2))"
   ]
  },
  {
   "cell_type": "markdown",
   "metadata": {},
   "source": [
    "---"
   ]
  },
  {
   "cell_type": "markdown",
   "metadata": {},
   "source": [
    "## Data Manipulation"
   ]
  },
  {
   "cell_type": "markdown",
   "metadata": {},
   "source": [
    "Too many observations in df2['automated'] to throw out obvs != 'AUTO'\n",
    "\n",
    "Separate into two different data frames to properly format then recombine.\n"
   ]
  },
  {
   "cell_type": "code",
   "execution_count": 28,
   "metadata": {},
   "outputs": [],
   "source": [
    "df = df2.copy()"
   ]
  },
  {
   "cell_type": "code",
   "execution_count": 29,
   "metadata": {},
   "outputs": [
    {
     "data": {
      "text/html": [
       "<div>\n",
       "<style scoped>\n",
       "    .dataframe tbody tr th:only-of-type {\n",
       "        vertical-align: middle;\n",
       "    }\n",
       "\n",
       "    .dataframe tbody tr th {\n",
       "        vertical-align: top;\n",
       "    }\n",
       "\n",
       "    .dataframe thead th {\n",
       "        text-align: right;\n",
       "    }\n",
       "</style>\n",
       "<table border=\"1\" class=\"dataframe\">\n",
       "  <thead>\n",
       "    <tr style=\"text-align: right;\">\n",
       "      <th></th>\n",
       "      <th>time</th>\n",
       "      <th>date</th>\n",
       "      <th>id</th>\n",
       "      <th>obsv_time</th>\n",
       "      <th>automated</th>\n",
       "      <th>wind_speed</th>\n",
       "      <th>visibility</th>\n",
       "      <th>cloud_cover</th>\n",
       "      <th>temp_dewpt</th>\n",
       "      <th>altimeter</th>\n",
       "      <th>altimeter_remarks</th>\n",
       "      <th>ao2</th>\n",
       "    </tr>\n",
       "  </thead>\n",
       "  <tbody>\n",
       "    <tr>\n",
       "      <th>0</th>\n",
       "      <td>21:15:00</td>\n",
       "      <td>2015-03-25</td>\n",
       "      <td>KCXP</td>\n",
       "      <td>252115Z</td>\n",
       "      <td>AUTO</td>\n",
       "      <td>08005KT</td>\n",
       "      <td>10SM</td>\n",
       "      <td>CLR</td>\n",
       "      <td>17/M01</td>\n",
       "      <td>A3033</td>\n",
       "      <td>RMK</td>\n",
       "      <td>AO2</td>\n",
       "    </tr>\n",
       "    <tr>\n",
       "      <th>1</th>\n",
       "      <td>21:13:00</td>\n",
       "      <td>2015-03-25</td>\n",
       "      <td>KWRB</td>\n",
       "      <td>252113Z</td>\n",
       "      <td>AUTO</td>\n",
       "      <td>06005KT</td>\n",
       "      <td>10SM</td>\n",
       "      <td>BKN014</td>\n",
       "      <td>OVC024</td>\n",
       "      <td>20/17</td>\n",
       "      <td>A3009</td>\n",
       "      <td>RMK</td>\n",
       "    </tr>\n",
       "    <tr>\n",
       "      <th>2</th>\n",
       "      <td>21:12:00</td>\n",
       "      <td>2015-03-25</td>\n",
       "      <td>KTUL</td>\n",
       "      <td>252112Z</td>\n",
       "      <td>14006KT</td>\n",
       "      <td>10SM</td>\n",
       "      <td>TS</td>\n",
       "      <td>BKN035</td>\n",
       "      <td>BKN120</td>\n",
       "      <td>BKN250</td>\n",
       "      <td>24/16</td>\n",
       "      <td>A2975</td>\n",
       "    </tr>\n",
       "    <tr>\n",
       "      <th>3</th>\n",
       "      <td>21:11:00</td>\n",
       "      <td>2015-03-25</td>\n",
       "      <td>KDRT</td>\n",
       "      <td>252111Z</td>\n",
       "      <td>AUTO</td>\n",
       "      <td>13007KT</td>\n",
       "      <td>10SM</td>\n",
       "      <td>SCT023</td>\n",
       "      <td>22/17</td>\n",
       "      <td>A2986</td>\n",
       "      <td>RMK</td>\n",
       "      <td>AO2</td>\n",
       "    </tr>\n",
       "    <tr>\n",
       "      <th>4</th>\n",
       "      <td>21:10:00</td>\n",
       "      <td>2015-03-25</td>\n",
       "      <td>KBRL</td>\n",
       "      <td>252110Z</td>\n",
       "      <td>AUTO</td>\n",
       "      <td>33009KT</td>\n",
       "      <td>8SM</td>\n",
       "      <td>SCT016</td>\n",
       "      <td>07/03</td>\n",
       "      <td>A3006</td>\n",
       "      <td>RMK</td>\n",
       "      <td>AO2</td>\n",
       "    </tr>\n",
       "  </tbody>\n",
       "</table>\n",
       "</div>"
      ],
      "text/plain": [
       "       time        date    id obsv_time automated wind_speed visibility  \\\n",
       "0  21:15:00  2015-03-25  KCXP   252115Z      AUTO    08005KT       10SM   \n",
       "1  21:13:00  2015-03-25  KWRB   252113Z      AUTO    06005KT       10SM   \n",
       "2  21:12:00  2015-03-25  KTUL   252112Z   14006KT       10SM         TS   \n",
       "3  21:11:00  2015-03-25  KDRT   252111Z      AUTO    13007KT       10SM   \n",
       "4  21:10:00  2015-03-25  KBRL   252110Z      AUTO    33009KT        8SM   \n",
       "\n",
       "  cloud_cover temp_dewpt altimeter altimeter_remarks    ao2  \n",
       "0         CLR     17/M01     A3033               RMK    AO2  \n",
       "1      BKN014     OVC024     20/17             A3009    RMK  \n",
       "2      BKN035     BKN120    BKN250             24/16  A2975  \n",
       "3      SCT023      22/17     A2986               RMK    AO2  \n",
       "4      SCT016      07/03     A3006               RMK    AO2  "
      ]
     },
     "execution_count": 29,
     "metadata": {},
     "output_type": "execute_result"
    }
   ],
   "source": [
    "df.head()"
   ]
  },
  {
   "cell_type": "code",
   "execution_count": 30,
   "metadata": {},
   "outputs": [
    {
     "data": {
      "text/html": [
       "<div>\n",
       "<style scoped>\n",
       "    .dataframe tbody tr th:only-of-type {\n",
       "        vertical-align: middle;\n",
       "    }\n",
       "\n",
       "    .dataframe tbody tr th {\n",
       "        vertical-align: top;\n",
       "    }\n",
       "\n",
       "    .dataframe thead th {\n",
       "        text-align: right;\n",
       "    }\n",
       "</style>\n",
       "<table border=\"1\" class=\"dataframe\">\n",
       "  <thead>\n",
       "    <tr style=\"text-align: right;\">\n",
       "      <th></th>\n",
       "      <th>time</th>\n",
       "      <th>date</th>\n",
       "      <th>id</th>\n",
       "      <th>obsv_time</th>\n",
       "      <th>automated</th>\n",
       "      <th>wind_speed</th>\n",
       "      <th>visibility</th>\n",
       "      <th>cloud_cover</th>\n",
       "      <th>temp_dewpt</th>\n",
       "      <th>altimeter</th>\n",
       "      <th>altimeter_remarks</th>\n",
       "      <th>ao2</th>\n",
       "    </tr>\n",
       "  </thead>\n",
       "  <tbody>\n",
       "    <tr>\n",
       "      <th>0</th>\n",
       "      <td>21:15:00</td>\n",
       "      <td>2015-03-25</td>\n",
       "      <td>KCXP</td>\n",
       "      <td>252115Z</td>\n",
       "      <td>AUTO</td>\n",
       "      <td>08005KT</td>\n",
       "      <td>10SM</td>\n",
       "      <td>CLR</td>\n",
       "      <td>17/M01</td>\n",
       "      <td>A3033</td>\n",
       "      <td>RMK</td>\n",
       "      <td>AO2</td>\n",
       "    </tr>\n",
       "    <tr>\n",
       "      <th>1</th>\n",
       "      <td>21:13:00</td>\n",
       "      <td>2015-03-25</td>\n",
       "      <td>KWRB</td>\n",
       "      <td>252113Z</td>\n",
       "      <td>AUTO</td>\n",
       "      <td>06005KT</td>\n",
       "      <td>10SM</td>\n",
       "      <td>BKN014</td>\n",
       "      <td>OVC024</td>\n",
       "      <td>20/17</td>\n",
       "      <td>A3009</td>\n",
       "      <td>RMK</td>\n",
       "    </tr>\n",
       "    <tr>\n",
       "      <th>3</th>\n",
       "      <td>21:11:00</td>\n",
       "      <td>2015-03-25</td>\n",
       "      <td>KDRT</td>\n",
       "      <td>252111Z</td>\n",
       "      <td>AUTO</td>\n",
       "      <td>13007KT</td>\n",
       "      <td>10SM</td>\n",
       "      <td>SCT023</td>\n",
       "      <td>22/17</td>\n",
       "      <td>A2986</td>\n",
       "      <td>RMK</td>\n",
       "      <td>AO2</td>\n",
       "    </tr>\n",
       "    <tr>\n",
       "      <th>4</th>\n",
       "      <td>21:10:00</td>\n",
       "      <td>2015-03-25</td>\n",
       "      <td>KBRL</td>\n",
       "      <td>252110Z</td>\n",
       "      <td>AUTO</td>\n",
       "      <td>33009KT</td>\n",
       "      <td>8SM</td>\n",
       "      <td>SCT016</td>\n",
       "      <td>07/03</td>\n",
       "      <td>A3006</td>\n",
       "      <td>RMK</td>\n",
       "      <td>AO2</td>\n",
       "    </tr>\n",
       "    <tr>\n",
       "      <th>5</th>\n",
       "      <td>21:10:00</td>\n",
       "      <td>2015-03-25</td>\n",
       "      <td>KCMX</td>\n",
       "      <td>252110Z</td>\n",
       "      <td>AUTO</td>\n",
       "      <td>26016KT</td>\n",
       "      <td>4SM</td>\n",
       "      <td>-SN</td>\n",
       "      <td>BR</td>\n",
       "      <td>OVC007</td>\n",
       "      <td>01/M01</td>\n",
       "      <td>A2959</td>\n",
       "    </tr>\n",
       "  </tbody>\n",
       "</table>\n",
       "</div>"
      ],
      "text/plain": [
       "       time        date    id obsv_time automated wind_speed visibility  \\\n",
       "0  21:15:00  2015-03-25  KCXP   252115Z      AUTO    08005KT       10SM   \n",
       "1  21:13:00  2015-03-25  KWRB   252113Z      AUTO    06005KT       10SM   \n",
       "3  21:11:00  2015-03-25  KDRT   252111Z      AUTO    13007KT       10SM   \n",
       "4  21:10:00  2015-03-25  KBRL   252110Z      AUTO    33009KT        8SM   \n",
       "5  21:10:00  2015-03-25  KCMX   252110Z      AUTO    26016KT        4SM   \n",
       "\n",
       "  cloud_cover temp_dewpt altimeter altimeter_remarks    ao2  \n",
       "0         CLR     17/M01     A3033               RMK    AO2  \n",
       "1      BKN014     OVC024     20/17             A3009    RMK  \n",
       "3      SCT023      22/17     A2986               RMK    AO2  \n",
       "4      SCT016      07/03     A3006               RMK    AO2  \n",
       "5         -SN         BR    OVC007            01/M01  A2959  "
      ]
     },
     "execution_count": 30,
     "metadata": {},
     "output_type": "execute_result"
    }
   ],
   "source": [
    "df_auto = df[df['automated'] == 'AUTO']\n",
    "\n",
    "df_auto.head()"
   ]
  },
  {
   "cell_type": "code",
   "execution_count": 31,
   "metadata": {},
   "outputs": [],
   "source": [
    "df_auto = df_auto[['date', 'id', 'wind_speed', 'visibility', 'cloud_cover']]"
   ]
  },
  {
   "cell_type": "code",
   "execution_count": 32,
   "metadata": {},
   "outputs": [
    {
     "data": {
      "text/html": [
       "<div>\n",
       "<style scoped>\n",
       "    .dataframe tbody tr th:only-of-type {\n",
       "        vertical-align: middle;\n",
       "    }\n",
       "\n",
       "    .dataframe tbody tr th {\n",
       "        vertical-align: top;\n",
       "    }\n",
       "\n",
       "    .dataframe thead th {\n",
       "        text-align: right;\n",
       "    }\n",
       "</style>\n",
       "<table border=\"1\" class=\"dataframe\">\n",
       "  <thead>\n",
       "    <tr style=\"text-align: right;\">\n",
       "      <th></th>\n",
       "      <th>date</th>\n",
       "      <th>id</th>\n",
       "      <th>wind_speed</th>\n",
       "      <th>visibility</th>\n",
       "      <th>cloud_cover</th>\n",
       "    </tr>\n",
       "  </thead>\n",
       "  <tbody>\n",
       "    <tr>\n",
       "      <th>0</th>\n",
       "      <td>2015-03-25</td>\n",
       "      <td>KCXP</td>\n",
       "      <td>08005KT</td>\n",
       "      <td>10SM</td>\n",
       "      <td>CLR</td>\n",
       "    </tr>\n",
       "    <tr>\n",
       "      <th>1</th>\n",
       "      <td>2015-03-25</td>\n",
       "      <td>KWRB</td>\n",
       "      <td>06005KT</td>\n",
       "      <td>10SM</td>\n",
       "      <td>BKN014</td>\n",
       "    </tr>\n",
       "    <tr>\n",
       "      <th>3</th>\n",
       "      <td>2015-03-25</td>\n",
       "      <td>KDRT</td>\n",
       "      <td>13007KT</td>\n",
       "      <td>10SM</td>\n",
       "      <td>SCT023</td>\n",
       "    </tr>\n",
       "    <tr>\n",
       "      <th>4</th>\n",
       "      <td>2015-03-25</td>\n",
       "      <td>KBRL</td>\n",
       "      <td>33009KT</td>\n",
       "      <td>8SM</td>\n",
       "      <td>SCT016</td>\n",
       "    </tr>\n",
       "    <tr>\n",
       "      <th>5</th>\n",
       "      <td>2015-03-25</td>\n",
       "      <td>KCMX</td>\n",
       "      <td>26016KT</td>\n",
       "      <td>4SM</td>\n",
       "      <td>-SN</td>\n",
       "    </tr>\n",
       "  </tbody>\n",
       "</table>\n",
       "</div>"
      ],
      "text/plain": [
       "         date    id wind_speed visibility cloud_cover\n",
       "0  2015-03-25  KCXP    08005KT       10SM         CLR\n",
       "1  2015-03-25  KWRB    06005KT       10SM      BKN014\n",
       "3  2015-03-25  KDRT    13007KT       10SM      SCT023\n",
       "4  2015-03-25  KBRL    33009KT        8SM      SCT016\n",
       "5  2015-03-25  KCMX    26016KT        4SM         -SN"
      ]
     },
     "execution_count": 32,
     "metadata": {},
     "output_type": "execute_result"
    }
   ],
   "source": [
    "df_auto.head()"
   ]
  },
  {
   "cell_type": "code",
   "execution_count": 33,
   "metadata": {},
   "outputs": [
    {
     "data": {
      "text/html": [
       "<div>\n",
       "<style scoped>\n",
       "    .dataframe tbody tr th:only-of-type {\n",
       "        vertical-align: middle;\n",
       "    }\n",
       "\n",
       "    .dataframe tbody tr th {\n",
       "        vertical-align: top;\n",
       "    }\n",
       "\n",
       "    .dataframe thead th {\n",
       "        text-align: right;\n",
       "    }\n",
       "</style>\n",
       "<table border=\"1\" class=\"dataframe\">\n",
       "  <thead>\n",
       "    <tr style=\"text-align: right;\">\n",
       "      <th></th>\n",
       "      <th>time</th>\n",
       "      <th>date</th>\n",
       "      <th>id</th>\n",
       "      <th>obsv_time</th>\n",
       "      <th>automated</th>\n",
       "      <th>wind_speed</th>\n",
       "      <th>visibility</th>\n",
       "      <th>cloud_cover</th>\n",
       "      <th>temp_dewpt</th>\n",
       "      <th>altimeter</th>\n",
       "      <th>altimeter_remarks</th>\n",
       "      <th>ao2</th>\n",
       "    </tr>\n",
       "  </thead>\n",
       "  <tbody>\n",
       "    <tr>\n",
       "      <th>2</th>\n",
       "      <td>21:12:00</td>\n",
       "      <td>2015-03-25</td>\n",
       "      <td>KTUL</td>\n",
       "      <td>252112Z</td>\n",
       "      <td>14006KT</td>\n",
       "      <td>10SM</td>\n",
       "      <td>TS</td>\n",
       "      <td>BKN035</td>\n",
       "      <td>BKN120</td>\n",
       "      <td>BKN250</td>\n",
       "      <td>24/16</td>\n",
       "      <td>A2975</td>\n",
       "    </tr>\n",
       "    <tr>\n",
       "      <th>7</th>\n",
       "      <td>21:10:00</td>\n",
       "      <td>2015-03-25</td>\n",
       "      <td>KSZL</td>\n",
       "      <td>252110Z</td>\n",
       "      <td>03009KT</td>\n",
       "      <td>9SM</td>\n",
       "      <td>-RA</td>\n",
       "      <td>VCTS</td>\n",
       "      <td>SCT040</td>\n",
       "      <td>BKN100</td>\n",
       "      <td>10/07</td>\n",
       "      <td>A3000</td>\n",
       "    </tr>\n",
       "    <tr>\n",
       "      <th>9</th>\n",
       "      <td>21:09:00</td>\n",
       "      <td>2015-03-25</td>\n",
       "      <td>KGCK</td>\n",
       "      <td>252109Z</td>\n",
       "      <td>01029G38KT</td>\n",
       "      <td>10SM</td>\n",
       "      <td>BKN018</td>\n",
       "      <td>BKN033</td>\n",
       "      <td>BKN080</td>\n",
       "      <td>07/02</td>\n",
       "      <td>A3008</td>\n",
       "      <td>RMK</td>\n",
       "    </tr>\n",
       "    <tr>\n",
       "      <th>10</th>\n",
       "      <td>21:09:00</td>\n",
       "      <td>2015-03-25</td>\n",
       "      <td>KGSP</td>\n",
       "      <td>252109Z</td>\n",
       "      <td>02009KT</td>\n",
       "      <td>7SM</td>\n",
       "      <td>FEW011</td>\n",
       "      <td>SCT021</td>\n",
       "      <td>OVC041</td>\n",
       "      <td>16/13</td>\n",
       "      <td>A3015</td>\n",
       "      <td>RMK</td>\n",
       "    </tr>\n",
       "    <tr>\n",
       "      <th>15</th>\n",
       "      <td>21:07:00</td>\n",
       "      <td>2015-03-25</td>\n",
       "      <td>KSFO</td>\n",
       "      <td>252107Z</td>\n",
       "      <td>29014KT</td>\n",
       "      <td>10SM</td>\n",
       "      <td>FEW200</td>\n",
       "      <td>21/12</td>\n",
       "      <td>A3020</td>\n",
       "      <td>RMK</td>\n",
       "      <td>AO2</td>\n",
       "      <td>WSHFT</td>\n",
       "    </tr>\n",
       "  </tbody>\n",
       "</table>\n",
       "</div>"
      ],
      "text/plain": [
       "        time        date    id obsv_time   automated wind_speed visibility  \\\n",
       "2   21:12:00  2015-03-25  KTUL   252112Z     14006KT       10SM         TS   \n",
       "7   21:10:00  2015-03-25  KSZL   252110Z     03009KT        9SM        -RA   \n",
       "9   21:09:00  2015-03-25  KGCK   252109Z  01029G38KT       10SM     BKN018   \n",
       "10  21:09:00  2015-03-25  KGSP   252109Z     02009KT        7SM     FEW011   \n",
       "15  21:07:00  2015-03-25  KSFO   252107Z     29014KT       10SM     FEW200   \n",
       "\n",
       "   cloud_cover temp_dewpt altimeter altimeter_remarks    ao2  \n",
       "2       BKN035     BKN120    BKN250             24/16  A2975  \n",
       "7         VCTS     SCT040    BKN100             10/07  A3000  \n",
       "9       BKN033     BKN080     07/02             A3008    RMK  \n",
       "10      SCT021     OVC041     16/13             A3015    RMK  \n",
       "15       21/12      A3020       RMK               AO2  WSHFT  "
      ]
     },
     "execution_count": 33,
     "metadata": {},
     "output_type": "execute_result"
    }
   ],
   "source": [
    "df_non_auto = df[df['automated'] != 'AUTO']\n",
    "\n",
    "df_non_auto.head()"
   ]
  },
  {
   "cell_type": "code",
   "execution_count": 34,
   "metadata": {},
   "outputs": [
    {
     "data": {
      "text/html": [
       "<div>\n",
       "<style scoped>\n",
       "    .dataframe tbody tr th:only-of-type {\n",
       "        vertical-align: middle;\n",
       "    }\n",
       "\n",
       "    .dataframe tbody tr th {\n",
       "        vertical-align: top;\n",
       "    }\n",
       "\n",
       "    .dataframe thead th {\n",
       "        text-align: right;\n",
       "    }\n",
       "</style>\n",
       "<table border=\"1\" class=\"dataframe\">\n",
       "  <thead>\n",
       "    <tr style=\"text-align: right;\">\n",
       "      <th></th>\n",
       "      <th>date</th>\n",
       "      <th>id</th>\n",
       "      <th>automated</th>\n",
       "      <th>wind_speed</th>\n",
       "      <th>visibility</th>\n",
       "    </tr>\n",
       "  </thead>\n",
       "  <tbody>\n",
       "    <tr>\n",
       "      <th>2</th>\n",
       "      <td>2015-03-25</td>\n",
       "      <td>KTUL</td>\n",
       "      <td>14006KT</td>\n",
       "      <td>10SM</td>\n",
       "      <td>TS</td>\n",
       "    </tr>\n",
       "    <tr>\n",
       "      <th>7</th>\n",
       "      <td>2015-03-25</td>\n",
       "      <td>KSZL</td>\n",
       "      <td>03009KT</td>\n",
       "      <td>9SM</td>\n",
       "      <td>-RA</td>\n",
       "    </tr>\n",
       "    <tr>\n",
       "      <th>9</th>\n",
       "      <td>2015-03-25</td>\n",
       "      <td>KGCK</td>\n",
       "      <td>01029G38KT</td>\n",
       "      <td>10SM</td>\n",
       "      <td>BKN018</td>\n",
       "    </tr>\n",
       "    <tr>\n",
       "      <th>10</th>\n",
       "      <td>2015-03-25</td>\n",
       "      <td>KGSP</td>\n",
       "      <td>02009KT</td>\n",
       "      <td>7SM</td>\n",
       "      <td>FEW011</td>\n",
       "    </tr>\n",
       "    <tr>\n",
       "      <th>15</th>\n",
       "      <td>2015-03-25</td>\n",
       "      <td>KSFO</td>\n",
       "      <td>29014KT</td>\n",
       "      <td>10SM</td>\n",
       "      <td>FEW200</td>\n",
       "    </tr>\n",
       "  </tbody>\n",
       "</table>\n",
       "</div>"
      ],
      "text/plain": [
       "          date    id   automated wind_speed visibility\n",
       "2   2015-03-25  KTUL     14006KT       10SM         TS\n",
       "7   2015-03-25  KSZL     03009KT        9SM        -RA\n",
       "9   2015-03-25  KGCK  01029G38KT       10SM     BKN018\n",
       "10  2015-03-25  KGSP     02009KT        7SM     FEW011\n",
       "15  2015-03-25  KSFO     29014KT       10SM     FEW200"
      ]
     },
     "execution_count": 34,
     "metadata": {},
     "output_type": "execute_result"
    }
   ],
   "source": [
    "df_non_auto = df_non_auto[['date', 'id', 'automated', 'wind_speed', 'visibility']]\n",
    "\n",
    "df_non_auto.head()"
   ]
  },
  {
   "cell_type": "code",
   "execution_count": 35,
   "metadata": {},
   "outputs": [
    {
     "data": {
      "text/html": [
       "<div>\n",
       "<style scoped>\n",
       "    .dataframe tbody tr th:only-of-type {\n",
       "        vertical-align: middle;\n",
       "    }\n",
       "\n",
       "    .dataframe tbody tr th {\n",
       "        vertical-align: top;\n",
       "    }\n",
       "\n",
       "    .dataframe thead th {\n",
       "        text-align: right;\n",
       "    }\n",
       "</style>\n",
       "<table border=\"1\" class=\"dataframe\">\n",
       "  <thead>\n",
       "    <tr style=\"text-align: right;\">\n",
       "      <th></th>\n",
       "      <th>date</th>\n",
       "      <th>id</th>\n",
       "      <th>wind_speed</th>\n",
       "      <th>visibility</th>\n",
       "      <th>cloud_cover</th>\n",
       "    </tr>\n",
       "  </thead>\n",
       "  <tbody>\n",
       "    <tr>\n",
       "      <th>2</th>\n",
       "      <td>2015-03-25</td>\n",
       "      <td>KTUL</td>\n",
       "      <td>14006KT</td>\n",
       "      <td>10SM</td>\n",
       "      <td>TS</td>\n",
       "    </tr>\n",
       "    <tr>\n",
       "      <th>7</th>\n",
       "      <td>2015-03-25</td>\n",
       "      <td>KSZL</td>\n",
       "      <td>03009KT</td>\n",
       "      <td>9SM</td>\n",
       "      <td>-RA</td>\n",
       "    </tr>\n",
       "    <tr>\n",
       "      <th>9</th>\n",
       "      <td>2015-03-25</td>\n",
       "      <td>KGCK</td>\n",
       "      <td>01029G38KT</td>\n",
       "      <td>10SM</td>\n",
       "      <td>BKN018</td>\n",
       "    </tr>\n",
       "    <tr>\n",
       "      <th>10</th>\n",
       "      <td>2015-03-25</td>\n",
       "      <td>KGSP</td>\n",
       "      <td>02009KT</td>\n",
       "      <td>7SM</td>\n",
       "      <td>FEW011</td>\n",
       "    </tr>\n",
       "    <tr>\n",
       "      <th>15</th>\n",
       "      <td>2015-03-25</td>\n",
       "      <td>KSFO</td>\n",
       "      <td>29014KT</td>\n",
       "      <td>10SM</td>\n",
       "      <td>FEW200</td>\n",
       "    </tr>\n",
       "  </tbody>\n",
       "</table>\n",
       "</div>"
      ],
      "text/plain": [
       "          date    id  wind_speed visibility cloud_cover\n",
       "2   2015-03-25  KTUL     14006KT       10SM          TS\n",
       "7   2015-03-25  KSZL     03009KT        9SM         -RA\n",
       "9   2015-03-25  KGCK  01029G38KT       10SM      BKN018\n",
       "10  2015-03-25  KGSP     02009KT        7SM      FEW011\n",
       "15  2015-03-25  KSFO     29014KT       10SM      FEW200"
      ]
     },
     "execution_count": 35,
     "metadata": {},
     "output_type": "execute_result"
    }
   ],
   "source": [
    "df_non_auto.columns = df_auto.columns\n",
    "\n",
    "df_non_auto.head()"
   ]
  },
  {
   "cell_type": "code",
   "execution_count": 36,
   "metadata": {},
   "outputs": [],
   "source": [
    "all_dfs = pd.concat([df_auto, df_non_auto])"
   ]
  },
  {
   "cell_type": "code",
   "execution_count": 37,
   "metadata": {},
   "outputs": [
    {
     "data": {
      "text/html": [
       "<div>\n",
       "<style scoped>\n",
       "    .dataframe tbody tr th:only-of-type {\n",
       "        vertical-align: middle;\n",
       "    }\n",
       "\n",
       "    .dataframe tbody tr th {\n",
       "        vertical-align: top;\n",
       "    }\n",
       "\n",
       "    .dataframe thead th {\n",
       "        text-align: right;\n",
       "    }\n",
       "</style>\n",
       "<table border=\"1\" class=\"dataframe\">\n",
       "  <thead>\n",
       "    <tr style=\"text-align: right;\">\n",
       "      <th></th>\n",
       "      <th>date</th>\n",
       "      <th>id</th>\n",
       "      <th>wind_speed</th>\n",
       "      <th>visibility</th>\n",
       "      <th>cloud_cover</th>\n",
       "    </tr>\n",
       "  </thead>\n",
       "  <tbody>\n",
       "    <tr>\n",
       "      <th>0</th>\n",
       "      <td>2015-03-25</td>\n",
       "      <td>KCXP</td>\n",
       "      <td>08005KT</td>\n",
       "      <td>10SM</td>\n",
       "      <td>CLR</td>\n",
       "    </tr>\n",
       "    <tr>\n",
       "      <th>1</th>\n",
       "      <td>2015-03-25</td>\n",
       "      <td>KWRB</td>\n",
       "      <td>06005KT</td>\n",
       "      <td>10SM</td>\n",
       "      <td>BKN014</td>\n",
       "    </tr>\n",
       "    <tr>\n",
       "      <th>3</th>\n",
       "      <td>2015-03-25</td>\n",
       "      <td>KDRT</td>\n",
       "      <td>13007KT</td>\n",
       "      <td>10SM</td>\n",
       "      <td>SCT023</td>\n",
       "    </tr>\n",
       "    <tr>\n",
       "      <th>4</th>\n",
       "      <td>2015-03-25</td>\n",
       "      <td>KBRL</td>\n",
       "      <td>33009KT</td>\n",
       "      <td>8SM</td>\n",
       "      <td>SCT016</td>\n",
       "    </tr>\n",
       "    <tr>\n",
       "      <th>5</th>\n",
       "      <td>2015-03-25</td>\n",
       "      <td>KCMX</td>\n",
       "      <td>26016KT</td>\n",
       "      <td>4SM</td>\n",
       "      <td>-SN</td>\n",
       "    </tr>\n",
       "  </tbody>\n",
       "</table>\n",
       "</div>"
      ],
      "text/plain": [
       "         date    id wind_speed visibility cloud_cover\n",
       "0  2015-03-25  KCXP    08005KT       10SM         CLR\n",
       "1  2015-03-25  KWRB    06005KT       10SM      BKN014\n",
       "3  2015-03-25  KDRT    13007KT       10SM      SCT023\n",
       "4  2015-03-25  KBRL    33009KT        8SM      SCT016\n",
       "5  2015-03-25  KCMX    26016KT        4SM         -SN"
      ]
     },
     "execution_count": 37,
     "metadata": {},
     "output_type": "execute_result"
    }
   ],
   "source": [
    "all_dfs.head()"
   ]
  },
  {
   "cell_type": "code",
   "execution_count": 38,
   "metadata": {},
   "outputs": [],
   "source": [
    "assert len(all_dfs) == len(df), \"Not the same\""
   ]
  },
  {
   "cell_type": "markdown",
   "metadata": {},
   "source": [
    "Columns of interest are: \n",
    "\n",
    "- id\n",
    "- wind_speed\n",
    "- visibility\n",
    "- cloud cover"
   ]
  },
  {
   "cell_type": "markdown",
   "metadata": {},
   "source": [
    "Need to parse out KT for wind_speed, SM for visibility, and make conditions for cloud_cover"
   ]
  },
  {
   "cell_type": "code",
   "execution_count": 39,
   "metadata": {},
   "outputs": [
    {
     "data": {
      "text/plain": [
       "13000"
      ]
     },
     "execution_count": 39,
     "metadata": {},
     "output_type": "execute_result"
    }
   ],
   "source": [
    "all_dfs['cloud_cover'].nunique()"
   ]
  },
  {
   "cell_type": "code",
   "execution_count": 40,
   "metadata": {},
   "outputs": [
    {
     "data": {
      "text/plain": [
       "date           object\n",
       "id             object\n",
       "wind_speed     object\n",
       "visibility     object\n",
       "cloud_cover    object\n",
       "dtype: object"
      ]
     },
     "execution_count": 40,
     "metadata": {},
     "output_type": "execute_result"
    }
   ],
   "source": [
    "all_dfs.dtypes"
   ]
  },
  {
   "cell_type": "code",
   "execution_count": 41,
   "metadata": {},
   "outputs": [
    {
     "name": "stderr",
     "output_type": "stream",
     "text": [
      "C:\\Users\\pam\\anaconda3\\lib\\site-packages\\ipykernel_launcher.py:1: FutureWarning: Columnar iteration over characters will be deprecated in future releases.\n",
      "  \"\"\"Entry point for launching an IPython kernel.\n"
     ]
    }
   ],
   "source": [
    "all_dfs['visibility'], all_dfs['drop'] = all_dfs['visibility'].str.split('SM', 1).str"
   ]
  },
  {
   "cell_type": "code",
   "execution_count": 42,
   "metadata": {},
   "outputs": [],
   "source": [
    "del all_dfs['drop']"
   ]
  },
  {
   "cell_type": "code",
   "execution_count": 43,
   "metadata": {},
   "outputs": [
    {
     "data": {
      "text/html": [
       "<div>\n",
       "<style scoped>\n",
       "    .dataframe tbody tr th:only-of-type {\n",
       "        vertical-align: middle;\n",
       "    }\n",
       "\n",
       "    .dataframe tbody tr th {\n",
       "        vertical-align: top;\n",
       "    }\n",
       "\n",
       "    .dataframe thead th {\n",
       "        text-align: right;\n",
       "    }\n",
       "</style>\n",
       "<table border=\"1\" class=\"dataframe\">\n",
       "  <thead>\n",
       "    <tr style=\"text-align: right;\">\n",
       "      <th></th>\n",
       "      <th>date</th>\n",
       "      <th>id</th>\n",
       "      <th>wind_speed</th>\n",
       "      <th>visibility</th>\n",
       "      <th>cloud_cover</th>\n",
       "    </tr>\n",
       "  </thead>\n",
       "  <tbody>\n",
       "    <tr>\n",
       "      <th>0</th>\n",
       "      <td>2015-03-25</td>\n",
       "      <td>KCXP</td>\n",
       "      <td>08005KT</td>\n",
       "      <td>10</td>\n",
       "      <td>CLR</td>\n",
       "    </tr>\n",
       "    <tr>\n",
       "      <th>1</th>\n",
       "      <td>2015-03-25</td>\n",
       "      <td>KWRB</td>\n",
       "      <td>06005KT</td>\n",
       "      <td>10</td>\n",
       "      <td>BKN014</td>\n",
       "    </tr>\n",
       "    <tr>\n",
       "      <th>3</th>\n",
       "      <td>2015-03-25</td>\n",
       "      <td>KDRT</td>\n",
       "      <td>13007KT</td>\n",
       "      <td>10</td>\n",
       "      <td>SCT023</td>\n",
       "    </tr>\n",
       "    <tr>\n",
       "      <th>4</th>\n",
       "      <td>2015-03-25</td>\n",
       "      <td>KBRL</td>\n",
       "      <td>33009KT</td>\n",
       "      <td>8</td>\n",
       "      <td>SCT016</td>\n",
       "    </tr>\n",
       "    <tr>\n",
       "      <th>5</th>\n",
       "      <td>2015-03-25</td>\n",
       "      <td>KCMX</td>\n",
       "      <td>26016KT</td>\n",
       "      <td>4</td>\n",
       "      <td>-SN</td>\n",
       "    </tr>\n",
       "  </tbody>\n",
       "</table>\n",
       "</div>"
      ],
      "text/plain": [
       "         date    id wind_speed visibility cloud_cover\n",
       "0  2015-03-25  KCXP    08005KT         10         CLR\n",
       "1  2015-03-25  KWRB    06005KT         10      BKN014\n",
       "3  2015-03-25  KDRT    13007KT         10      SCT023\n",
       "4  2015-03-25  KBRL    33009KT          8      SCT016\n",
       "5  2015-03-25  KCMX    26016KT          4         -SN"
      ]
     },
     "execution_count": 43,
     "metadata": {},
     "output_type": "execute_result"
    }
   ],
   "source": [
    "all_dfs.head()"
   ]
  },
  {
   "cell_type": "code",
   "execution_count": 44,
   "metadata": {},
   "outputs": [],
   "source": [
    "all_dfs.reset_index(inplace = True)"
   ]
  },
  {
   "cell_type": "code",
   "execution_count": 45,
   "metadata": {},
   "outputs": [
    {
     "data": {
      "text/html": [
       "<div>\n",
       "<style scoped>\n",
       "    .dataframe tbody tr th:only-of-type {\n",
       "        vertical-align: middle;\n",
       "    }\n",
       "\n",
       "    .dataframe tbody tr th {\n",
       "        vertical-align: top;\n",
       "    }\n",
       "\n",
       "    .dataframe thead th {\n",
       "        text-align: right;\n",
       "    }\n",
       "</style>\n",
       "<table border=\"1\" class=\"dataframe\">\n",
       "  <thead>\n",
       "    <tr style=\"text-align: right;\">\n",
       "      <th></th>\n",
       "      <th>index</th>\n",
       "      <th>date</th>\n",
       "      <th>id</th>\n",
       "      <th>wind_speed</th>\n",
       "      <th>visibility</th>\n",
       "      <th>cloud_cover</th>\n",
       "    </tr>\n",
       "  </thead>\n",
       "  <tbody>\n",
       "    <tr>\n",
       "      <th>0</th>\n",
       "      <td>0</td>\n",
       "      <td>2015-03-25</td>\n",
       "      <td>KCXP</td>\n",
       "      <td>08005KT</td>\n",
       "      <td>10</td>\n",
       "      <td>CLR</td>\n",
       "    </tr>\n",
       "    <tr>\n",
       "      <th>1</th>\n",
       "      <td>1</td>\n",
       "      <td>2015-03-25</td>\n",
       "      <td>KWRB</td>\n",
       "      <td>06005KT</td>\n",
       "      <td>10</td>\n",
       "      <td>BKN014</td>\n",
       "    </tr>\n",
       "    <tr>\n",
       "      <th>2</th>\n",
       "      <td>3</td>\n",
       "      <td>2015-03-25</td>\n",
       "      <td>KDRT</td>\n",
       "      <td>13007KT</td>\n",
       "      <td>10</td>\n",
       "      <td>SCT023</td>\n",
       "    </tr>\n",
       "    <tr>\n",
       "      <th>3</th>\n",
       "      <td>4</td>\n",
       "      <td>2015-03-25</td>\n",
       "      <td>KBRL</td>\n",
       "      <td>33009KT</td>\n",
       "      <td>8</td>\n",
       "      <td>SCT016</td>\n",
       "    </tr>\n",
       "    <tr>\n",
       "      <th>4</th>\n",
       "      <td>5</td>\n",
       "      <td>2015-03-25</td>\n",
       "      <td>KCMX</td>\n",
       "      <td>26016KT</td>\n",
       "      <td>4</td>\n",
       "      <td>-SN</td>\n",
       "    </tr>\n",
       "  </tbody>\n",
       "</table>\n",
       "</div>"
      ],
      "text/plain": [
       "   index        date    id wind_speed visibility cloud_cover\n",
       "0      0  2015-03-25  KCXP    08005KT         10         CLR\n",
       "1      1  2015-03-25  KWRB    06005KT         10      BKN014\n",
       "2      3  2015-03-25  KDRT    13007KT         10      SCT023\n",
       "3      4  2015-03-25  KBRL    33009KT          8      SCT016\n",
       "4      5  2015-03-25  KCMX    26016KT          4         -SN"
      ]
     },
     "execution_count": 45,
     "metadata": {},
     "output_type": "execute_result"
    }
   ],
   "source": [
    "all_dfs.head()"
   ]
  },
  {
   "cell_type": "code",
   "execution_count": 46,
   "metadata": {},
   "outputs": [
    {
     "data": {
      "text/html": [
       "<div>\n",
       "<style scoped>\n",
       "    .dataframe tbody tr th:only-of-type {\n",
       "        vertical-align: middle;\n",
       "    }\n",
       "\n",
       "    .dataframe tbody tr th {\n",
       "        vertical-align: top;\n",
       "    }\n",
       "\n",
       "    .dataframe thead th {\n",
       "        text-align: right;\n",
       "    }\n",
       "</style>\n",
       "<table border=\"1\" class=\"dataframe\">\n",
       "  <thead>\n",
       "    <tr style=\"text-align: right;\">\n",
       "      <th></th>\n",
       "      <th>date</th>\n",
       "      <th>id</th>\n",
       "      <th>wind_speed</th>\n",
       "      <th>visibility</th>\n",
       "      <th>cloud_cover</th>\n",
       "    </tr>\n",
       "  </thead>\n",
       "  <tbody>\n",
       "    <tr>\n",
       "      <th>0</th>\n",
       "      <td>2015-03-25</td>\n",
       "      <td>KCXP</td>\n",
       "      <td>08005KT</td>\n",
       "      <td>10</td>\n",
       "      <td>CLR</td>\n",
       "    </tr>\n",
       "    <tr>\n",
       "      <th>1</th>\n",
       "      <td>2015-03-25</td>\n",
       "      <td>KWRB</td>\n",
       "      <td>06005KT</td>\n",
       "      <td>10</td>\n",
       "      <td>BKN014</td>\n",
       "    </tr>\n",
       "    <tr>\n",
       "      <th>2</th>\n",
       "      <td>2015-03-25</td>\n",
       "      <td>KDRT</td>\n",
       "      <td>13007KT</td>\n",
       "      <td>10</td>\n",
       "      <td>SCT023</td>\n",
       "    </tr>\n",
       "    <tr>\n",
       "      <th>3</th>\n",
       "      <td>2015-03-25</td>\n",
       "      <td>KBRL</td>\n",
       "      <td>33009KT</td>\n",
       "      <td>8</td>\n",
       "      <td>SCT016</td>\n",
       "    </tr>\n",
       "    <tr>\n",
       "      <th>4</th>\n",
       "      <td>2015-03-25</td>\n",
       "      <td>KCMX</td>\n",
       "      <td>26016KT</td>\n",
       "      <td>4</td>\n",
       "      <td>-SN</td>\n",
       "    </tr>\n",
       "  </tbody>\n",
       "</table>\n",
       "</div>"
      ],
      "text/plain": [
       "         date    id wind_speed visibility cloud_cover\n",
       "0  2015-03-25  KCXP    08005KT         10         CLR\n",
       "1  2015-03-25  KWRB    06005KT         10      BKN014\n",
       "2  2015-03-25  KDRT    13007KT         10      SCT023\n",
       "3  2015-03-25  KBRL    33009KT          8      SCT016\n",
       "4  2015-03-25  KCMX    26016KT          4         -SN"
      ]
     },
     "execution_count": 46,
     "metadata": {},
     "output_type": "execute_result"
    }
   ],
   "source": [
    "del all_dfs['index']\n",
    "\n",
    "all_dfs.head()"
   ]
  },
  {
   "cell_type": "code",
   "execution_count": 47,
   "metadata": {},
   "outputs": [
    {
     "data": {
      "text/html": [
       "<div>\n",
       "<style scoped>\n",
       "    .dataframe tbody tr th:only-of-type {\n",
       "        vertical-align: middle;\n",
       "    }\n",
       "\n",
       "    .dataframe tbody tr th {\n",
       "        vertical-align: top;\n",
       "    }\n",
       "\n",
       "    .dataframe thead th {\n",
       "        text-align: right;\n",
       "    }\n",
       "</style>\n",
       "<table border=\"1\" class=\"dataframe\">\n",
       "  <thead>\n",
       "    <tr style=\"text-align: right;\">\n",
       "      <th></th>\n",
       "      <th>date</th>\n",
       "      <th>id</th>\n",
       "      <th>wind_speed</th>\n",
       "      <th>visibility</th>\n",
       "      <th>cloud_cover</th>\n",
       "    </tr>\n",
       "  </thead>\n",
       "  <tbody>\n",
       "    <tr>\n",
       "      <th>7731236</th>\n",
       "      <td>2016-04-28</td>\n",
       "      <td>KMFD</td>\n",
       "      <td>06006KT</td>\n",
       "      <td>10</td>\n",
       "      <td>OVC005</td>\n",
       "    </tr>\n",
       "    <tr>\n",
       "      <th>7731237</th>\n",
       "      <td>2016-04-28</td>\n",
       "      <td>KCRP</td>\n",
       "      <td>13013KT</td>\n",
       "      <td>7</td>\n",
       "      <td>SCT012</td>\n",
       "    </tr>\n",
       "    <tr>\n",
       "      <th>7731238</th>\n",
       "      <td>2016-04-28</td>\n",
       "      <td>KUES</td>\n",
       "      <td>07012G16KT</td>\n",
       "      <td>10</td>\n",
       "      <td>OVC008</td>\n",
       "    </tr>\n",
       "    <tr>\n",
       "      <th>7731239</th>\n",
       "      <td>2016-04-28</td>\n",
       "      <td>KVPS</td>\n",
       "      <td>20011KT</td>\n",
       "      <td>10</td>\n",
       "      <td>BKN012</td>\n",
       "    </tr>\n",
       "    <tr>\n",
       "      <th>7731240</th>\n",
       "      <td>2016-04-28</td>\n",
       "      <td>KMSN</td>\n",
       "      <td>07010KT</td>\n",
       "      <td>10</td>\n",
       "      <td>OVC016</td>\n",
       "    </tr>\n",
       "  </tbody>\n",
       "</table>\n",
       "</div>"
      ],
      "text/plain": [
       "               date    id  wind_speed visibility cloud_cover\n",
       "7731236  2016-04-28  KMFD     06006KT         10      OVC005\n",
       "7731237  2016-04-28  KCRP     13013KT          7      SCT012\n",
       "7731238  2016-04-28  KUES  07012G16KT         10      OVC008\n",
       "7731239  2016-04-28  KVPS     20011KT         10      BKN012\n",
       "7731240  2016-04-28  KMSN     07010KT         10      OVC016"
      ]
     },
     "execution_count": 47,
     "metadata": {},
     "output_type": "execute_result"
    }
   ],
   "source": [
    "all_dfs.tail()"
   ]
  },
  {
   "cell_type": "markdown",
   "metadata": {},
   "source": [
    "### Wind_speed:\n",
    "\n",
    "- first three digits are true direction in degrees\n",
    "- next two digits are sustained speed\n",
    "- if gusts are present, next two digits are max wind speed in past few minutes\n",
    "\n",
    "Split 00KT from rest then drop? Then split 00 and KT and drop KT?\n",
    "\n",
    "Regular expressions that would pull out relevant numbers\n",
    "\n",
    "import re\n",
    "^ check that out on pandas"
   ]
  },
  {
   "cell_type": "code",
   "execution_count": 49,
   "metadata": {},
   "outputs": [
    {
     "name": "stdout",
     "output_type": "stream",
     "text": [
      "3246810\n"
     ]
    }
   ],
   "source": [
    "pct_clr = len(all_dfs[all_dfs['cloud_cover'] == 'CLR'])\n",
    "\n",
    "print(pct_clr)"
   ]
  },
  {
   "cell_type": "code",
   "execution_count": 53,
   "metadata": {},
   "outputs": [
    {
     "name": "stdout",
     "output_type": "stream",
     "text": [
      "Clear Skies: 42.0%\n"
     ]
    }
   ],
   "source": [
    "clr = round(\n",
    "pct_clr / len(all_dfs), 4\n",
    ")*100\n",
    "\n",
    "print(f\"Clear Skies: {clr}%\")"
   ]
  },
  {
   "cell_type": "markdown",
   "metadata": {},
   "source": [
    "### Cloud_cover:\n",
    "\n",
    "- CLEAR = sky clear\n",
    "- FEW = 0-2 eighths\n",
    "- SCT = scattered 3-4 eighths\n",
    "- BKN = Broken - 5-7 eighths\n",
    "- OVC = Overcast - 8 eighths\n",
    "\n",
    "cloud cover, thinking rules based approach eg:\n",
    "\n",
    "- clear = 5\n",
    "- few = 4\n",
    "- sct = 3\n",
    "- bkn = 2\n",
    "- else: 1\n",
    "\n"
   ]
  },
  {
   "cell_type": "markdown",
   "metadata": {},
   "source": [
    "almost binary outcome\n",
    "\n",
    "what proportions of days can you fly\n",
    "\n",
    "then rank on proportion of fliable days"
   ]
  },
  {
   "cell_type": "code",
   "execution_count": 54,
   "metadata": {},
   "outputs": [
    {
     "data": {
      "text/plain": [
       "array(['KCXP', 'KWRB', 'KDRT', 'KBRL', 'KCMX', 'KINL', 'KSKA', 'KALI',\n",
       "       'KDLF', 'KFRI', 'KHQM', 'KAFF', 'KDNL', 'KAST', 'KLBX', 'KTRM',\n",
       "       'KDAN', 'KDAA', 'KADW', 'KBAB', 'KBAD', 'KBIF', 'KBIX', 'KCBM',\n",
       "       'KCEF', 'KCOF', 'KDMA', 'KDYS', 'KFAF', 'KFBG', 'KFHU', 'KFSI',\n",
       "       'KFTK', 'KGRF', 'KGRK', 'KGTB', 'KHMN', 'KHRT', 'KHST', 'KIAB',\n",
       "       'KINS', 'KLFI', 'KLSF', 'KLSV', 'KLUF', 'KMCF', 'KMIB', 'KMUI',\n",
       "       'KMXF', 'KOFF', 'KPAM', 'KPOB', 'KQGX', 'KRCA', 'KRDR', 'KRIV',\n",
       "       'KRND', 'KSKF', 'KSSC', 'KSVN', 'KTCM', 'KTIK', 'KVAD', 'KWRI',\n",
       "       'KHIB', 'KADF', 'KAND', 'KART', 'KBIH', 'KCEC', 'KCTB', 'KDIK',\n",
       "       'KDUG', 'KEED', 'KEKO', 'KGFA', 'KINW', 'KJMS', 'KMTW', 'KOFK',\n",
       "       'KQRH', 'KTPH', 'KUKI', 'KWJF', 'KWMC', 'KMMH', 'KOAJ', 'KONP',\n",
       "       'KOUN', 'KPEQ', 'KPGV', 'KPNA', 'KPQI', 'KPVW', 'KQQY', 'KQSN',\n",
       "       'KRKD', 'KRNH', 'KRUT', 'KSDY', 'KSEZ', 'KSGU', 'KSJS', 'KSME',\n",
       "       'KSMN', 'KSOA', 'KTEX', 'KTVF', 'KVIS', 'KWWR', 'K36U', 'KASN',\n",
       "       'KBBD', 'KBCB', 'KBDN', 'KCOE', 'KDVL', 'KEAT', 'KENV', 'KFKL',\n",
       "       'KFMH', 'KFOD', 'KGDV', 'KHDC', 'KHON', 'KHYS', 'KIWD', 'KLCK',\n",
       "       'KLRU', 'KLWB', 'KMBL', 'KAPN', 'KAUW', 'KAVP', 'KCAR', 'KILN',\n",
       "       'KJST', 'KLBT', 'KLWT', 'KMIV', 'KOLS', 'KPHF', 'KPLN', 'KPNE',\n",
       "       'KPSF', 'KRBL', 'KRKS', 'KUIN', 'KMCK', 'KMCN', 'KMCW', 'KMGW',\n",
       "       'KMLC', 'KMLS', 'KMSL', 'KMSS', 'KMTH', 'KMTJ', 'KOGB', 'KOLF',\n",
       "       'KOTM', 'KPBF', 'KPBG', 'KPGA', 'KPGD', 'KPIR', 'KPMD', 'KPNC',\n",
       "       'KPOU', 'KPRB', 'KPUW', 'KRBG', 'KRHI', 'KRIL', 'KRIW', 'KRSL',\n",
       "       'KRSW', 'KRWF', 'KRWI', 'KRWL', 'KSAF', 'KSHR', 'KSNY', 'KSSI',\n",
       "       'KSTJ', 'KTCS', 'KTOI', 'KTVL', 'KUTS', 'KVEL', 'KWRL', 'KYIP',\n",
       "       'KZZV', 'KABR', 'KACV', 'KAIA', 'KANB', 'KAOO', 'KASD', 'KATY',\n",
       "       'KAUG', 'KAXN', 'KBCE', 'KBFD', 'KBFF', 'KBKE', 'KBNO', 'KBPI',\n",
       "       'KBPK', 'KBRD', 'KBRO', 'KBTM', 'KBVO', 'KBWG', 'KBYI', 'KCDC',\n",
       "       'KCDR', 'KCDS', 'KCLM', 'KCNM', 'KCNY', 'KCSV', 'KCUB', 'KDBQ',\n",
       "       'KDHT', 'KDLS', 'KDMN', 'KDRO', 'KDUJ', 'KEET', 'KELD', 'KELM',\n",
       "       'KELY', 'KEVW', 'KFAY', 'KFDY', 'KFMY', 'KFST', 'KFVE', 'KGAG',\n",
       "       'KGCC', 'KGFL', 'KGGW', 'KGLD', 'KGLH', 'KGUP', 'KGUY', 'KGWO',\n",
       "       'KHBG', 'KHBR', 'KHKY', 'KHOT', 'KHRO', 'KHUL', 'KHVR', 'KHYR',\n",
       "       'KINK', 'KIPL', 'KJBR', 'KJER', 'KJKL', 'KLAR', 'KLBF', 'KLFK',\n",
       "       'KLLQ', 'KLND', 'KLOZ', 'KLVM', 'KLVS', 'KMCB', 'KMCE', 'KALS',\n",
       "       'KBLF', 'KBLH', 'KCKV', 'KCNU', 'KDDC', 'KHIE', 'KISN', 'KMBG',\n",
       "       'KTOL', 'KVTN', 'KMPV', 'KMYL', 'KSLK', 'KBJI', 'KBKW', 'KCON',\n",
       "       'KEKN', 'KILG', 'KJCT', 'KLGU', 'KDAG', 'KSYM', 'KCVS', 'KFCS',\n",
       "       'KHIF', 'KFTW', 'KLAW', 'KNEW', 'KTCC', 'KSUU', 'KBLV', 'KEND',\n",
       "       'KPOE', 'KSLE', 'KGCN', 'KRDG', 'KPNS', 'KSBA', 'KSNS', 'KHIO',\n",
       "       'KOXR', 'KABE', 'KSUA', 'KMUO', 'KNXP', 'KABY', 'KFPR', 'KLEE',\n",
       "       'KTOP', 'KGLS', 'KORH', 'KHUM', 'KAHN', 'KROG', 'KVQQ', 'KHOB',\n",
       "       'KSBY', 'KLAF', 'KMTC', 'KVBG', 'KMKL', 'KCSG', 'KGTR', 'KTRK',\n",
       "       'KSZL', 'KRME', 'KJLN', 'KFFO', 'KFLG', 'KEAU', 'KGON', 'KHYA',\n",
       "       'KNYG', 'KBBG', 'KEWN', 'KGCK', 'KINT', 'KTCL', 'KTTN', 'KACK',\n",
       "       'KALW', 'KBFM', 'KBMG', 'KBOI', 'KDHN', 'KEYW', 'KFLO', 'KGKY',\n",
       "       'KGRI', 'KHKS', 'KLSE', 'KBDR', 'KMHK', 'KFOE', 'KSAW', 'KUES',\n",
       "       'KUNV', 'KISO', 'KITH', 'KMTN', 'KCOU', 'KRVS', 'KAGS', 'KFYV',\n",
       "       'KCHO', 'KMMT', 'KSFF', 'KIXD', 'KDEC', 'KGSB', 'KLTS', 'KNCA',\n",
       "       'KRDM', 'KMYR', 'KJAC', 'KAVL', 'KIPT', 'KLYH', 'KMOT', 'KMRB',\n",
       "       'KSFB', 'KSTS', 'KAPF', 'KARA', 'KAZO', 'KBPT', 'KCKB', 'KCPR',\n",
       "       'KCPS', 'KCRG', 'KENW', 'KHLG', 'KIDA', 'KILM', 'KLCH', 'KLEB',\n",
       "       'KMGM', 'KMFD', 'KSPS', 'KROW', 'KFRG', 'KGUS', 'KCWA', 'KFNT',\n",
       "       'KGYY', 'KLBE', 'KMER', 'KPVU', 'KMGE', 'KECP', 'KCHA', 'KPWM',\n",
       "       'KXNA', 'KEVV', 'KSAV', 'KFSM', 'KNBC', 'KNSE', 'KOWB', 'KSBP',\n",
       "       'KBMI', 'KMKG', 'KSCK', 'KOLM', 'KLEX', 'KAGC', 'KBTR', 'KCRE',\n",
       "       'KGGG', 'KGSP', 'KHLN', 'KIAG', 'KLNS', 'KLUK', 'KMFE', 'KMLU',\n",
       "       'KOPF', 'KPAE', 'KPDK', 'KPIE', 'KPKB', 'KPUB', 'KSAC', 'KSGR',\n",
       "       'KSRQ', 'KSSF', 'KSTC', 'KTLH', 'KTUP', 'KTXK', 'KVLD', 'KMLI',\n",
       "       'KSPI', 'KBIS', 'KORF', 'KSMX', 'KVCT', 'KVNY', 'KCYS', 'KPAH',\n",
       "       'KAEG', 'KATW', 'KISP', 'KCGI', 'KCMI', 'KSUS', 'KEGI', 'KVOK',\n",
       "       'KMOB', 'KNGP', 'KBED', 'KLRD', 'KNBG', 'KECG', 'KJAN', 'KLNK',\n",
       "       'KAMA', 'KFMN', 'KGFK', 'KGJT', 'KGPT', 'KGRB', 'KGRR', 'KLMT',\n",
       "       'KMFR', 'KMLB', 'KMSN', 'KMSO', 'KPIH', 'KPRC', 'KPSC', 'KPTK',\n",
       "       'KRDD', 'KSLN', 'KTWF', 'KMWH', 'KRAP', 'KCID', 'KHUT', 'KPVD',\n",
       "       'KSUN', 'KBJC', 'KEGE', 'KGMU', 'KSLI', 'KEDW', 'KFSD', 'KGPI',\n",
       "       'KBFL', 'KBTV', 'KBAF', 'KBGM', 'KBLI', 'KCRQ', 'KHSV', 'KLVK',\n",
       "       'KPSP', 'KTTD', 'KVRB', 'KNYL', 'KBZN', 'KLWS', 'KEUG', 'KASE',\n",
       "       'KCSM', 'KSNA', 'KYKM', 'KIWA', 'KMRY', 'KPIA', 'KSJC', 'KMKC',\n",
       "       'KTUS', 'KCLL', 'KFAR', 'KAEX', 'KHTS', 'KOGD', 'KMAF', 'KRST',\n",
       "       'KJXN', 'KNKT', 'KGNV', 'KLFT', 'KFXE', 'KTVC', 'KCXO', 'KMEI',\n",
       "       'KPDT', 'KTMB', 'KBFI', 'KFTY', 'KSGF', 'KHRL', 'KHUF', 'KDET',\n",
       "       'KSUX', 'KHND', 'KTYR', 'KLAS', 'KDLH', 'KDPA', 'KERI', 'KLGB',\n",
       "       'KGTF', 'KACY', 'KSLC', 'KLAL', 'KCLE', 'KSBN', 'KLAN', 'KABI',\n",
       "       'KCOD', 'KSJT', 'KROC', 'KBUR', 'KBKF', 'KACT', 'KFLL', 'KMDW',\n",
       "       'KDEN', 'KTEB', 'KALO', 'KDAB', 'KSHV', 'KBTL', 'KVGT', 'KVPS',\n",
       "       'KHOU', 'KMCI', 'KISM', 'KSDL', 'KTPA', 'KORD', 'KCAE', 'KICT',\n",
       "       'KQAJ', 'KCLT', 'KAUS', 'KCRW', 'KIAD', 'KMBS', 'KOKC', 'KCMH',\n",
       "       'KPSM', 'KCRP', 'KEAR', 'KROA', 'KDAL', 'KNUW', 'KBHB', 'KSWF',\n",
       "       'KATL', 'KOMA', 'KSYR', 'KBNA', 'KCHS', 'KTYS', 'KMCO', 'KRDU',\n",
       "       'KDAY', 'KPHL', 'KJHW', 'KHPN', 'KLAX', 'KTUL', 'KMDT', 'KPHX',\n",
       "       'KSFO', 'KOTH', 'KCAK', 'KABQ', 'KMSY', 'KCVG', 'KSTL', 'KMIA',\n",
       "       'KAFW', 'KMSP', 'KTRI', 'KELP', 'KPBI', 'KIAH', 'KGEG', 'KDSM',\n",
       "       'KJFK', 'KSAN', 'KMEM', 'KONT', 'KPDX', 'KBWI', 'KRFD', 'KJAX',\n",
       "       'KSDF', 'KQTZ', 'KQWM', 'KRNO', 'KBOS', 'KBUF', 'KCOS', 'KFWA',\n",
       "       'KGSO', 'KIND', 'KRIC', 'KMHT', 'KOAK', 'KSEA', 'KSMF', 'KAPA',\n",
       "       'KBGR', 'KBHM', 'KBIL', 'KDFW', 'KDTW', 'KFAT', 'KLBB', 'KLIT',\n",
       "       'KDCA', 'KMKE', 'KPIT', 'KSAT', 'KYNG', 'KALB', 'KBDL', 'KEWR',\n",
       "       'KLGA', 'KEFD', 'KRYY', 'KTIX', 'KBVI', 'KMHR'], dtype=object)"
      ]
     },
     "execution_count": 54,
     "metadata": {},
     "output_type": "execute_result"
    }
   ],
   "source": [
    "all_dfs['id'].unique()"
   ]
  },
  {
   "cell_type": "code",
   "execution_count": 55,
   "metadata": {},
   "outputs": [],
   "source": [
    "uniques = len(all_dfs['id'].unique())"
   ]
  },
  {
   "cell_type": "code",
   "execution_count": 56,
   "metadata": {},
   "outputs": [
    {
     "data": {
      "text/plain": [
       "702"
      ]
     },
     "execution_count": 56,
     "metadata": {},
     "output_type": "execute_result"
    }
   ],
   "source": [
    "uniques"
   ]
  },
  {
   "cell_type": "code",
   "execution_count": 57,
   "metadata": {},
   "outputs": [
    {
     "name": "stdout",
     "output_type": "stream",
     "text": [
      "11013\n"
     ]
    }
   ],
   "source": [
    "print(round(len(all_dfs)/ uniques))"
   ]
  },
  {
   "cell_type": "markdown",
   "metadata": {},
   "source": [
    "11000 observations per station"
   ]
  },
  {
   "cell_type": "markdown",
   "metadata": {},
   "source": [
    "___"
   ]
  }
 ],
 "metadata": {
  "kernelspec": {
   "display_name": "Python 3",
   "language": "python",
   "name": "python3"
  },
  "language_info": {
   "codemirror_mode": {
    "name": "ipython",
    "version": 3
   },
   "file_extension": ".py",
   "mimetype": "text/x-python",
   "name": "python",
   "nbconvert_exporter": "python",
   "pygments_lexer": "ipython3",
   "version": "3.8.1"
  }
 },
 "nbformat": 4,
 "nbformat_minor": 4
}
