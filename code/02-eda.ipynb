{
 "cells": [
  {
   "cell_type": "code",
   "execution_count": 1,
   "metadata": {},
   "outputs": [],
   "source": [
    "import pandas as pd\n",
    "import numpy as np\n",
    "import matplotlib.pyplot as plt\n",
    "import seaborn as sns\n",
    "import folium\n",
    "import json\n",
    "import utils\n",
    "import warnings\n",
    "# need to add data imports\n"
   ]
  },
  {
   "cell_type": "markdown",
   "metadata": {},
   "source": [
    "Migrating some code from data cleaning to specific EDA file."
   ]
  },
  {
   "cell_type": "code",
   "execution_count": null,
   "metadata": {},
   "outputs": [],
   "source": [
    "# plt.figure(figsize = (12, 8))\n",
    "# plt.hist(us_pop['Population2010'], bins = 50)\n",
    "# plt.xlim(left = 0,right = 2_000_000)\n",
    "# plt.axvline(us_pop['Population2010'].mean(), color = 'red', linestyle = '--',)\n",
    "# plt.axvline(us_pop['Population2010'].median(), color = 'orange', linestyle = ':')\n",
    "# plt.title('Histogram of US Population - 2010 (< 2mm)', size = 24)\n",
    "# plt.xticks(ticks = [*range(0, 1_750_001, 250_000)],\n",
    "#           labels = [str(i) for i in range(0, 1_750_001, 250_000)])\n",
    "# plt.xlabel('Population (Millions)', size = 16); "
   ]
  },
  {
   "cell_type": "markdown",
   "metadata": {},
   "source": [
    "An unsurprising right-skewed distribution of population. \n",
    "\n",
    "The limit was arbitrarily chosen to be 2,000,000 due to only four cities having populations greater than that amount and making the visual less interpretable.\n",
    "\n",
    "---"
   ]
  },
  {
   "cell_type": "code",
   "execution_count": null,
   "metadata": {},
   "outputs": [],
   "source": [
    "# Which US Cities have populations larger than 0.5 Million\n",
    "print(f\"Number of cities with population greater than half a million: {us_pop[us_pop['Population2010'] >= 500_000].shape[0]}\")\n",
    "print('='*64) # 64 to make the line break aesthetically pleasing\n",
    "print()\n",
    "us_pop[us_pop['Population2010'] >= 500_000].sort_values(by = 'Population2010', ascending = False)"
   ]
  },
  {
   "cell_type": "code",
   "execution_count": null,
   "metadata": {},
   "outputs": [],
   "source": [
    "# Which US Cities have populations larger than 1 Million\n",
    "us_pop[us_pop['Population2010'] >= 1_000_000].sort_values(by = 'Population2010', ascending = False)"
   ]
  },
  {
   "cell_type": "code",
   "execution_count": null,
   "metadata": {},
   "outputs": [],
   "source": []
  }
 ],
 "metadata": {
  "kernelspec": {
   "display_name": "Python [conda env:dsi] *",
   "language": "python",
   "name": "conda-env-dsi-py"
  },
  "language_info": {
   "codemirror_mode": {
    "name": "ipython",
    "version": 3
   },
   "file_extension": ".py",
   "mimetype": "text/x-python",
   "name": "python",
   "nbconvert_exporter": "python",
   "pygments_lexer": "ipython3",
   "version": "3.8.5"
  }
 },
 "nbformat": 4,
 "nbformat_minor": 4
}
